{
 "cells": [
  {
   "cell_type": "code",
   "execution_count": 1,
   "metadata": {},
   "outputs": [],
   "source": [
    "objf = open(\"books.txt\", \"r\")"
   ]
  },
  {
   "cell_type": "code",
   "execution_count": 2,
   "metadata": {},
   "outputs": [
    {
     "name": "stdout",
     "output_type": "stream",
     "text": [
      "The L\n"
     ]
    }
   ],
   "source": [
    "stra = objf.read(5)\n",
    "\n",
    "print(stra)"
   ]
  },
  {
   "cell_type": "code",
   "execution_count": 3,
   "metadata": {},
   "outputs": [
    {
     "name": "stdout",
     "output_type": "stream",
     "text": [
      "ord o\n"
     ]
    }
   ],
   "source": [
    "stra = objf.read(5)\n",
    "\n",
    "print(stra)"
   ]
  },
  {
   "cell_type": "code",
   "execution_count": 4,
   "metadata": {},
   "outputs": [],
   "source": [
    "objf.close()"
   ]
  },
  {
   "cell_type": "code",
   "execution_count": 6,
   "metadata": {},
   "outputs": [
    {
     "name": "stdout",
     "output_type": "stream",
     "text": [
      "The Lord of the rings\n",
      "War and peace\n",
      "The Great Gatsby\n",
      "Ulysses\n",
      "The Divine Comedy\n",
      "Lolita\n",
      "Anna Karenina\n"
     ]
    }
   ],
   "source": [
    "objf = open(\"books.txt\", \"r\")\n",
    "\n",
    "stra = objf.read()\n",
    "objf.close()\n",
    "\n",
    "print(stra)\n"
   ]
  },
  {
   "cell_type": "code",
   "execution_count": 7,
   "metadata": {},
   "outputs": [
    {
     "name": "stdout",
     "output_type": "stream",
     "text": [
      "The Lord of the rings\n",
      "\n",
      "War and peace\n",
      "\n"
     ]
    }
   ],
   "source": [
    "objf = open(\"books.txt\", \"r\")\n",
    "\n",
    "stra = objf.readline()\n",
    "print(stra)\n",
    "\n",
    "stra = objf.readline()\n",
    "print(stra)\n",
    "\n",
    "objf.close()"
   ]
  },
  {
   "cell_type": "code",
   "execution_count": 8,
   "metadata": {},
   "outputs": [
    {
     "name": "stdout",
     "output_type": "stream",
     "text": [
      "['The Lord of the rings\\n', 'War and peace\\n', 'The Great Gatsby\\n', 'Ulysses\\n', 'The Divine Comedy\\n', 'Lolita\\n', 'Anna Karenina']\n"
     ]
    }
   ],
   "source": [
    "objf = open(\"books.txt\", \"r\")\n",
    "\n",
    "lista = objf.readlines()\n",
    "print(lista)\n",
    "\n",
    "objf.close()"
   ]
  },
  {
   "cell_type": "code",
   "execution_count": 9,
   "metadata": {},
   "outputs": [
    {
     "name": "stdout",
     "output_type": "stream",
     "text": [
      "['The Lord of the rings', 'War and peace', 'The Great Gatsby', 'Ulysses', 'The Divine Comedy', 'Lolita', 'Anna Karenina']\n"
     ]
    }
   ],
   "source": [
    "objf = open(\"books.txt\", \"r\")\n",
    "\n",
    "stra = objf.read()\n",
    "lista = stra.splitlines()\n",
    "print(lista)\n",
    "\n",
    "objf.close()"
   ]
  },
  {
   "cell_type": "code",
   "execution_count": 10,
   "metadata": {},
   "outputs": [
    {
     "data": {
      "text/plain": [
       "'The Lord of the rings\\nWar and peace\\nThe Great Gatsby\\nUlysses\\nThe Divine Comedy\\nLolita\\nAnna Karenina'"
      ]
     },
     "execution_count": 10,
     "metadata": {},
     "output_type": "execute_result"
    }
   ],
   "source": [
    "stra"
   ]
  },
  {
   "cell_type": "code",
   "execution_count": 11,
   "metadata": {},
   "outputs": [
    {
     "name": "stdout",
     "output_type": "stream",
     "text": [
      "['The', 'Lord', 'of', 'the', 'rings', 'War', 'and', 'peace', 'The', 'Great', 'Gatsby', 'Ulysses', 'The', 'Divine', 'Comedy', 'Lolita', 'Anna', 'Karenina']\n"
     ]
    }
   ],
   "source": [
    "objf = open(\"books.txt\", \"r\")\n",
    "\n",
    "stra = objf.read()\n",
    "lista = stra.split()\n",
    "# whitespaces -> /n space /r /t \n",
    "\n",
    "print(lista)\n",
    "\n",
    "objf.close()"
   ]
  },
  {
   "cell_type": "code",
   "execution_count": 14,
   "metadata": {},
   "outputs": [
    {
     "name": "stdout",
     "output_type": "stream",
     "text": [
      "['thor:hammer', 'hulk:smash', 'captain:shield']\n"
     ]
    }
   ],
   "source": [
    "objf = open(\"avengers.txt\", \"r\")\n",
    "\n",
    "stra = objf.read()\n",
    "lista = stra.split(\"-\")\n",
    "\n",
    "print(lista)\n",
    "\n",
    "objf.close()"
   ]
  },
  {
   "cell_type": "code",
   "execution_count": 16,
   "metadata": {},
   "outputs": [
    {
     "data": {
      "text/plain": [
       "True"
      ]
     },
     "execution_count": 16,
     "metadata": {},
     "output_type": "execute_result"
    }
   ],
   "source": [
    "objf.closed"
   ]
  },
  {
   "cell_type": "code",
   "execution_count": 17,
   "metadata": {},
   "outputs": [
    {
     "name": "stdout",
     "output_type": "stream",
     "text": [
      "The Lord of the rings\n",
      "W\n"
     ]
    }
   ],
   "source": [
    "objf = open(\"books.txt\", \"r\")\n",
    "\n",
    "stra = objf.read(23)\n",
    "\n",
    "print(stra)"
   ]
  },
  {
   "cell_type": "code",
   "execution_count": 18,
   "metadata": {},
   "outputs": [
    {
     "name": "stdout",
     "output_type": "stream",
     "text": [
      "23\n"
     ]
    }
   ],
   "source": [
    "print(objf.tell())"
   ]
  },
  {
   "cell_type": "code",
   "execution_count": 20,
   "metadata": {},
   "outputs": [
    {
     "data": {
      "text/plain": [
       "7"
      ]
     },
     "execution_count": 20,
     "metadata": {},
     "output_type": "execute_result"
    }
   ],
   "source": [
    "objf.seek(7)"
   ]
  },
  {
   "cell_type": "code",
   "execution_count": 21,
   "metadata": {},
   "outputs": [
    {
     "name": "stdout",
     "output_type": "stream",
     "text": [
      "d of the rings\n",
      "War and \n"
     ]
    }
   ],
   "source": [
    "stra = objf.read(23)\n",
    "\n",
    "print(stra)"
   ]
  },
  {
   "cell_type": "code",
   "execution_count": null,
   "metadata": {},
   "outputs": [],
   "source": []
  }
 ],
 "metadata": {
  "kernelspec": {
   "display_name": "Python 3",
   "language": "python",
   "name": "python3"
  },
  "language_info": {
   "codemirror_mode": {
    "name": "ipython",
    "version": 3
   },
   "file_extension": ".py",
   "mimetype": "text/x-python",
   "name": "python",
   "nbconvert_exporter": "python",
   "pygments_lexer": "ipython3",
   "version": "3.7.7"
  }
 },
 "nbformat": 4,
 "nbformat_minor": 4
}
