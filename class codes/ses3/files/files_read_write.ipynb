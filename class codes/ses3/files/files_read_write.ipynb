{
 "cells": [
  {
   "cell_type": "code",
   "execution_count": 1,
   "metadata": {},
   "outputs": [
    {
     "data": {
      "text/plain": [
       "11"
      ]
     },
     "execution_count": 1,
     "metadata": {},
     "output_type": "execute_result"
    }
   ],
   "source": [
    "objf = open(\"two.txt\", \"w\")\n",
    "\n",
    "objf.write(\"good afternoon\\n\")\n",
    "objf.write(\"hungry yet?\")"
   ]
  },
  {
   "cell_type": "code",
   "execution_count": 2,
   "metadata": {},
   "outputs": [],
   "source": [
    "objf.close()"
   ]
  },
  {
   "cell_type": "code",
   "execution_count": 3,
   "metadata": {},
   "outputs": [],
   "source": [
    "objr = open(\"books.txt\", \"r\")\n",
    "objw = open(\"new_books.txt\", \"w\")\n",
    "\n",
    "lista = objr.readlines()\n",
    "\n",
    "for book_name in lista:\n",
    "    if book_name[:3] == \"The\":\n",
    "        objw.write(book_name)\n",
    "\n",
    "objr.close()\n",
    "objw.close()"
   ]
  },
  {
   "cell_type": "code",
   "execution_count": 4,
   "metadata": {},
   "outputs": [
    {
     "name": "stdout",
     "output_type": "stream",
     "text": [
      "['The Lord of the rings\\n', 'War and peace\\n', 'The Great Gatsby\\n', 'Ulysses\\n', 'The Divine Comedy\\n', 'Lolita\\n', 'Anna Karenina']\n"
     ]
    }
   ],
   "source": [
    "with open(\"books.txt\", \"r\") as objf:\n",
    "    lista = objf.readlines()\n",
    "\n",
    "print(lista)"
   ]
  },
  {
   "cell_type": "code",
   "execution_count": 5,
   "metadata": {},
   "outputs": [
    {
     "name": "stdout",
     "output_type": "stream",
     "text": [
      "True\n"
     ]
    }
   ],
   "source": [
    "print(objf.closed)"
   ]
  },
  {
   "cell_type": "code",
   "execution_count": 6,
   "metadata": {},
   "outputs": [
    {
     "data": {
      "text/plain": [
       "'UTF-8'"
      ]
     },
     "execution_count": 6,
     "metadata": {},
     "output_type": "execute_result"
    }
   ],
   "source": [
    "objf.encoding"
   ]
  },
  {
   "cell_type": "code",
   "execution_count": 8,
   "metadata": {},
   "outputs": [
    {
     "name": "stdout",
     "output_type": "stream",
     "text": [
      "tt\n",
      "bh\n",
      "se\n",
      "xx\n",
      "ss\n",
      "dq\n"
     ]
    }
   ],
   "source": [
    "with open(\"data.txt\", \"r\") as objr:\n",
    "    stra = objr.read()\n",
    "    \n",
    "lista = stra.splitlines()\n",
    "\n",
    "for line in lista:\n",
    "    temp = line.split()\n",
    "    print(temp[1])"
   ]
  },
  {
   "cell_type": "code",
   "execution_count": 10,
   "metadata": {},
   "outputs": [
    {
     "name": "stdout",
     "output_type": "stream",
     "text": [
      "['tt', 'bh', 'se', 'xx', 'ss', 'dq']\n"
     ]
    }
   ],
   "source": [
    "with open(\"data.txt\", \"r\") as objr:\n",
    "    stra = objr.read()\n",
    "    \n",
    "lista = stra.splitlines()\n",
    "\n",
    "column_x = []\n",
    "\n",
    "for line in lista:\n",
    "    temp = line.split()\n",
    "    column_x.append(temp[1])\n",
    "    \n",
    "print(column_x)"
   ]
  },
  {
   "cell_type": "code",
   "execution_count": 11,
   "metadata": {},
   "outputs": [
    {
     "name": "stdout",
     "output_type": "stream",
     "text": [
      "['89', '11', '67', '31', '18', '71']\n"
     ]
    }
   ],
   "source": [
    "with open(\"data.txt\", \"r\") as objr:\n",
    "    stra = objr.read()\n",
    "    \n",
    "lista = stra.splitlines()\n",
    "\n",
    "column_x = []\n",
    "\n",
    "for line in lista:\n",
    "    temp = line.split()\n",
    "    column_x.append(temp[2])\n",
    "    \n",
    "print(column_x)"
   ]
  },
  {
   "cell_type": "code",
   "execution_count": 12,
   "metadata": {},
   "outputs": [
    {
     "name": "stdout",
     "output_type": "stream",
     "text": [
      "['89', '11', '67', '31', '18', '71']\n"
     ]
    }
   ],
   "source": [
    "with open(\"data.txt\", \"r\") as objr:\n",
    "    stra = objr.read()\n",
    "    \n",
    "lista = stra.splitlines()\n",
    "\n",
    "column_x = []\n",
    "\n",
    "for line in lista:\n",
    "    column_x.append(line.split()[2])\n",
    "    \n",
    "print(column_x)"
   ]
  },
  {
   "cell_type": "code",
   "execution_count": 13,
   "metadata": {},
   "outputs": [
    {
     "name": "stdout",
     "output_type": "stream",
     "text": [
      "[89, 11, 67, 31, 18, 71]\n"
     ]
    }
   ],
   "source": [
    "with open(\"data.txt\", \"r\") as objr:\n",
    "    stra = objr.read()\n",
    "    \n",
    "lista = stra.splitlines()\n",
    "\n",
    "column_x = []\n",
    "\n",
    "for line in lista:\n",
    "    column_x.append(int(line.split()[2]))\n",
    "    \n",
    "print(column_x)"
   ]
  },
  {
   "cell_type": "code",
   "execution_count": 14,
   "metadata": {},
   "outputs": [
    {
     "data": {
      "text/plain": [
       "47.833333333333336"
      ]
     },
     "execution_count": 14,
     "metadata": {},
     "output_type": "execute_result"
    }
   ],
   "source": [
    "sum(column_x)/len(column_x)"
   ]
  },
  {
   "cell_type": "code",
   "execution_count": 15,
   "metadata": {},
   "outputs": [
    {
     "data": {
      "text/plain": [
       "47.83"
      ]
     },
     "execution_count": 15,
     "metadata": {},
     "output_type": "execute_result"
    }
   ],
   "source": [
    "round(sum(column_x)/len(column_x), 2)"
   ]
  },
  {
   "cell_type": "code",
   "execution_count": null,
   "metadata": {},
   "outputs": [],
   "source": []
  }
 ],
 "metadata": {
  "kernelspec": {
   "display_name": "Python 3",
   "language": "python",
   "name": "python3"
  },
  "language_info": {
   "codemirror_mode": {
    "name": "ipython",
    "version": 3
   },
   "file_extension": ".py",
   "mimetype": "text/x-python",
   "name": "python",
   "nbconvert_exporter": "python",
   "pygments_lexer": "ipython3",
   "version": "3.7.7"
  }
 },
 "nbformat": 4,
 "nbformat_minor": 4
}
