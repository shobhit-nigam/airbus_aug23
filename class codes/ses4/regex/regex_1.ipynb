{
 "cells": [
  {
   "cell_type": "code",
   "execution_count": 1,
   "metadata": {},
   "outputs": [],
   "source": [
    "import re"
   ]
  },
  {
   "cell_type": "code",
   "execution_count": 5,
   "metadata": {},
   "outputs": [
    {
     "name": "stdout",
     "output_type": "stream",
     "text": [
      "hello hi\n",
      "found it\n"
     ]
    }
   ],
   "source": [
    "pat = \"hell\"\n",
    "\n",
    "stra = input()\n",
    "\n",
    "res = re.match(pat, stra)\n",
    "\n",
    "if res:\n",
    "    print(\"found it\")\n",
    "else:\n",
    "    print(\"not found\")"
   ]
  },
  {
   "cell_type": "code",
   "execution_count": 8,
   "metadata": {},
   "outputs": [
    {
     "name": "stdout",
     "output_type": "stream",
     "text": [
      "help\n",
      "not found\n"
     ]
    }
   ],
   "source": [
    "pat = \"h..l\"\n",
    "\n",
    "stra = input()\n",
    "\n",
    "res = re.match(pat, stra)\n",
    "\n",
    "if res:\n",
    "    print(\"found it\")\n",
    "else:\n",
    "    print(\"not found\")"
   ]
  },
  {
   "cell_type": "code",
   "execution_count": 9,
   "metadata": {},
   "outputs": [
    {
     "name": "stdout",
     "output_type": "stream",
     "text": [
      "['234', '35678', '129', '3367', '981', '3251', '19', '1045', '25']\n"
     ]
    }
   ],
   "source": [
    "with open(\"data.txt\", \"r\") as objf:\n",
    "    stra = objf.read()\n",
    "\n",
    "pat = \"\\d+\"\n",
    "\n",
    "res = re.findall(pat, stra)\n",
    "\n",
    "print(res)"
   ]
  },
  {
   "cell_type": "code",
   "execution_count": 11,
   "metadata": {},
   "outputs": [
    {
     "name": "stdout",
     "output_type": "stream",
     "text": [
      "['234_', '129_', '981_', '19_']\n"
     ]
    }
   ],
   "source": [
    "with open(\"data.txt\", \"r\") as objf:\n",
    "    stra = objf.read()\n",
    "\n",
    "pat = \"\\d{2,3}_\"\n",
    "\n",
    "res = re.findall(pat, stra)\n",
    "\n",
    "print(res)"
   ]
  },
  {
   "cell_type": "code",
   "execution_count": 12,
   "metadata": {},
   "outputs": [
    {
     "name": "stdout",
     "output_type": "stream",
     "text": [
      "['ERROR234', 'ERROR129', 'ERROR981', 'ERROR19', 'ERROR25']\n"
     ]
    }
   ],
   "source": [
    "with open(\"data.txt\", \"r\") as objf:\n",
    "    stra = objf.read()\n",
    "\n",
    "pat = \"ERROR\\d{2,3}\"\n",
    "\n",
    "res = re.findall(pat, stra)\n",
    "\n",
    "print(res)"
   ]
  },
  {
   "cell_type": "code",
   "execution_count": 13,
   "metadata": {},
   "outputs": [
    {
     "name": "stdout",
     "output_type": "stream",
     "text": [
      "['ERROR234']\n"
     ]
    }
   ],
   "source": [
    "with open(\"data.txt\", \"r\") as objf:\n",
    "    stra = objf.read()\n",
    "\n",
    "pat = \"ERROR\\d{2,3}\"\n",
    "\n",
    "res = re.findall(pat, stra)\n",
    "\n",
    "print(res)"
   ]
  },
  {
   "cell_type": "code",
   "execution_count": 15,
   "metadata": {},
   "outputs": [
    {
     "name": "stdout",
     "output_type": "stream",
     "text": [
      "[['ERROR234'], ['ERROR129'], ['ERROR981'], ['ERROR19'], []]\n"
     ]
    }
   ],
   "source": [
    "with open(\"data.txt\", \"r\") as objf:\n",
    "    lista = objf.readlines()\n",
    "\n",
    "pat = \"^ERROR\\d{2,3}\"\n",
    "\n",
    "res = []\n",
    "\n",
    "for line in lista:\n",
    "    res.append(re.findall(pat, line))\n",
    "\n",
    "print(res)"
   ]
  },
  {
   "cell_type": "code",
   "execution_count": 16,
   "metadata": {},
   "outputs": [
    {
     "name": "stdout",
     "output_type": "stream",
     "text": [
      "['ERROR', '_line', '\\nERROR', '_line', '\\nERROR', '_line', '\\nERROR', '_line', '\\ni may have ERROR', ' somewhere']\n"
     ]
    }
   ],
   "source": [
    "with open(\"data.txt\", \"r\") as objf:\n",
    "    stra = objf.read()\n",
    "\n",
    "pat = \"\\d+\"\n",
    "\n",
    "res = re.split(pat, stra)\n",
    "\n",
    "print(res)"
   ]
  },
  {
   "cell_type": "code",
   "execution_count": 17,
   "metadata": {},
   "outputs": [
    {
     "name": "stdout",
     "output_type": "stream",
     "text": [
      "['ERROR', '_line', '\\nERROR', '_line', '\\nERROR981_line3251\\nERROR19_line1045\\ni may have ERROR25 somewhere']\n"
     ]
    }
   ],
   "source": [
    "with open(\"data.txt\", \"r\") as objf:\n",
    "    stra = objf.read()\n",
    "\n",
    "pat = \"\\d+\"\n",
    "\n",
    "res = re.split(pat, stra, 4)\n",
    "\n",
    "print(res)"
   ]
  },
  {
   "cell_type": "code",
   "execution_count": 18,
   "metadata": {},
   "outputs": [
    {
     "name": "stdout",
     "output_type": "stream",
     "text": [
      "ERROR##_line##\n",
      "ERROR##_line##\n",
      "ERROR##_line##\n",
      "ERROR##_line##\n",
      "i may have ERROR## somewhere\n"
     ]
    }
   ],
   "source": [
    "with open(\"data.txt\", \"r\") as objf:\n",
    "    stra = objf.read()\n",
    "\n",
    "pat = \"\\d+\"\n",
    "rep = \"##\"\n",
    "\n",
    "res = re.sub(pat, rep, stra)\n",
    "\n",
    "print(res)"
   ]
  },
  {
   "cell_type": "code",
   "execution_count": 19,
   "metadata": {},
   "outputs": [
    {
     "name": "stdout",
     "output_type": "stream",
     "text": [
      "ERROR##_line##\n",
      "ERROR##_line##\n",
      "ERROR981_line3251\n",
      "ERROR19_line1045\n",
      "i may have ERROR25 somewhere\n"
     ]
    }
   ],
   "source": [
    "with open(\"data.txt\", \"r\") as objf:\n",
    "    stra = objf.read()\n",
    "\n",
    "pat = \"\\d+\"\n",
    "rep = \"##\"\n",
    "\n",
    "res = re.sub(pat, rep, stra, 4)\n",
    "\n",
    "print(res)"
   ]
  },
  {
   "cell_type": "code",
   "execution_count": 20,
   "metadata": {},
   "outputs": [
    {
     "name": "stdout",
     "output_type": "stream",
     "text": [
      "('ERROR##_line##\\nERROR##_line##\\nERROR##_line##\\nERROR##_line##\\ni may have ERROR## somewhere', 9)\n"
     ]
    }
   ],
   "source": [
    "with open(\"data.txt\", \"r\") as objf:\n",
    "    stra = objf.read()\n",
    "\n",
    "pat = \"\\d+\"\n",
    "rep = \"##\"\n",
    "\n",
    "res = re.subn(pat, rep, stra)\n",
    "\n",
    "print(res)"
   ]
  },
  {
   "cell_type": "code",
   "execution_count": null,
   "metadata": {},
   "outputs": [],
   "source": []
  }
 ],
 "metadata": {
  "kernelspec": {
   "display_name": "Python 3",
   "language": "python",
   "name": "python3"
  },
  "language_info": {
   "codemirror_mode": {
    "name": "ipython",
    "version": 3
   },
   "file_extension": ".py",
   "mimetype": "text/x-python",
   "name": "python",
   "nbconvert_exporter": "python",
   "pygments_lexer": "ipython3",
   "version": "3.7.7"
  }
 },
 "nbformat": 4,
 "nbformat_minor": 4
}
