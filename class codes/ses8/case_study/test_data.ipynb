{
 "cells": [
  {
   "cell_type": "code",
   "execution_count": 1,
   "metadata": {},
   "outputs": [],
   "source": [
    "import pandas as pd\n",
    "import os \n",
    "import numpy as np"
   ]
  },
  {
   "cell_type": "code",
   "execution_count": 2,
   "metadata": {},
   "outputs": [],
   "source": [
    "# fixed values\n",
    "slot_upper_limit = 135"
   ]
  },
  {
   "cell_type": "code",
   "execution_count": 3,
   "metadata": {},
   "outputs": [],
   "source": [
    "dfa = pd.read_csv(\"test_data.csv\")"
   ]
  },
  {
   "cell_type": "code",
   "execution_count": 4,
   "metadata": {},
   "outputs": [
    {
     "data": {
      "text/plain": [
       "(1040, 5)"
      ]
     },
     "execution_count": 4,
     "metadata": {},
     "output_type": "execute_result"
    }
   ],
   "source": [
    "dfa.shape"
   ]
  },
  {
   "cell_type": "code",
   "execution_count": 5,
   "metadata": {},
   "outputs": [
    {
     "data": {
      "text/plain": [
       "Index(['id', 'first_name', 'last_name', 'email', 'test_slot'], dtype='object')"
      ]
     },
     "execution_count": 5,
     "metadata": {},
     "output_type": "execute_result"
    }
   ],
   "source": [
    "dfa.columns"
   ]
  },
  {
   "cell_type": "code",
   "execution_count": 6,
   "metadata": {},
   "outputs": [],
   "source": [
    "slot_based = dfa['test_slot'].value_counts()"
   ]
  },
  {
   "cell_type": "code",
   "execution_count": 7,
   "metadata": {},
   "outputs": [
    {
     "data": {
      "text/plain": [
       "test_slot_7    145\n",
       "test_slot_4    135\n",
       "test_slot_2    135\n",
       "test_slot_1    132\n",
       "test_slot_5    127\n",
       "test_slot_6    123\n",
       "test_slot_3    122\n",
       "test_slot_8    121\n",
       "Name: test_slot, dtype: int64"
      ]
     },
     "execution_count": 7,
     "metadata": {},
     "output_type": "execute_result"
    }
   ],
   "source": [
    "slot_based"
   ]
  },
  {
   "cell_type": "code",
   "execution_count": 8,
   "metadata": {},
   "outputs": [
    {
     "data": {
      "text/plain": [
       "0       False\n",
       "1       False\n",
       "2       False\n",
       "3       False\n",
       "4       False\n",
       "        ...  \n",
       "1035    False\n",
       "1036    False\n",
       "1037    False\n",
       "1038    False\n",
       "1039    False\n",
       "Length: 1040, dtype: bool"
      ]
     },
     "execution_count": 8,
     "metadata": {},
     "output_type": "execute_result"
    }
   ],
   "source": [
    "dfa.duplicated(keep=False)"
   ]
  },
  {
   "cell_type": "code",
   "execution_count": 9,
   "metadata": {},
   "outputs": [],
   "source": [
    "dfb = dfa.drop_duplicates(subset=['email'], keep='last')"
   ]
  },
  {
   "cell_type": "code",
   "execution_count": 10,
   "metadata": {},
   "outputs": [
    {
     "data": {
      "text/plain": [
       "(1000, 5)"
      ]
     },
     "execution_count": 10,
     "metadata": {},
     "output_type": "execute_result"
    }
   ],
   "source": [
    "dfb.shape"
   ]
  },
  {
   "cell_type": "code",
   "execution_count": 11,
   "metadata": {},
   "outputs": [],
   "source": [
    "slot_based = dfb['test_slot'].value_counts()"
   ]
  },
  {
   "cell_type": "code",
   "execution_count": 12,
   "metadata": {},
   "outputs": [
    {
     "data": {
      "text/plain": [
       "test_slot_7    138\n",
       "test_slot_4    128\n",
       "test_slot_2    127\n",
       "test_slot_1    127\n",
       "test_slot_5    124\n",
       "test_slot_8    120\n",
       "test_slot_6    120\n",
       "test_slot_3    116\n",
       "Name: test_slot, dtype: int64"
      ]
     },
     "execution_count": 12,
     "metadata": {},
     "output_type": "execute_result"
    }
   ],
   "source": [
    "slot_based"
   ]
  },
  {
   "cell_type": "code",
   "execution_count": 13,
   "metadata": {},
   "outputs": [],
   "source": [
    "\n",
    "\n",
    "line1 = \"total registrations with duplicates \" + str(dfa.shape[0]) + \"\\n\"\n",
    "line2 = \"total registrations without duplicates \" + str(dfb.shape[0]) + \"\\n\""
   ]
  },
  {
   "cell_type": "code",
   "execution_count": 14,
   "metadata": {},
   "outputs": [
    {
     "data": {
      "text/plain": [
       "'total registrations with duplicates 1040\\n'"
      ]
     },
     "execution_count": 14,
     "metadata": {},
     "output_type": "execute_result"
    }
   ],
   "source": [
    "line1"
   ]
  },
  {
   "cell_type": "code",
   "execution_count": 15,
   "metadata": {},
   "outputs": [],
   "source": [
    "line3 = \"total slots filled (with duplicates) : \" + \"\\n\""
   ]
  },
  {
   "cell_type": "code",
   "execution_count": 16,
   "metadata": {},
   "outputs": [],
   "source": [
    "total_slots = len(dfb['test_slot'].value_counts()) "
   ]
  },
  {
   "cell_type": "code",
   "execution_count": 17,
   "metadata": {},
   "outputs": [],
   "source": [
    "counts = str(slot_based)"
   ]
  },
  {
   "cell_type": "code",
   "execution_count": 18,
   "metadata": {},
   "outputs": [],
   "source": [
    "line4 = counts[0:counts.rfind('\\n')] + \"\\n\""
   ]
  },
  {
   "cell_type": "code",
   "execution_count": 19,
   "metadata": {},
   "outputs": [
    {
     "name": "stdout",
     "output_type": "stream",
     "text": [
      "test_slot_7    138\n",
      "test_slot_4    128\n",
      "test_slot_2    127\n",
      "test_slot_1    127\n",
      "test_slot_5    124\n",
      "test_slot_8    120\n",
      "test_slot_6    120\n",
      "test_slot_3    116\n",
      "\n"
     ]
    }
   ],
   "source": [
    "print(line4)"
   ]
  },
  {
   "cell_type": "code",
   "execution_count": 20,
   "metadata": {},
   "outputs": [
    {
     "name": "stdout",
     "output_type": "stream",
     "text": [
      "on Thu, 08 Sep at 01:18:AM\n",
      "\n",
      "08_Sep_01_18_AM\n"
     ]
    }
   ],
   "source": [
    "from datetime import datetime\n",
    "\n",
    "now = datetime.now()\n",
    "\n",
    "line0 = now.strftime(\"on %a, %d %b at %I:%M:%p\\n\")\n",
    "\n",
    "print(line0)\n",
    "\n",
    "current_time = now.strftime(\"%d_%b_%I_%M_%p\")\n",
    "\n",
    "print(current_time)"
   ]
  },
  {
   "cell_type": "code",
   "execution_count": 21,
   "metadata": {},
   "outputs": [],
   "source": [
    "file_name = \"status_\" + current_time + \".txt\""
   ]
  },
  {
   "cell_type": "code",
   "execution_count": 22,
   "metadata": {},
   "outputs": [],
   "source": [
    "with open(file_name, \"w\") as fa:\n",
    "    fa.write(line0)\n",
    "    fa.write(line1)\n",
    "    fa.write(line2)\n",
    "    fa.write(line3)\n",
    "    fa.write(line4)"
   ]
  },
  {
   "cell_type": "code",
   "execution_count": 23,
   "metadata": {},
   "outputs": [],
   "source": [
    "slot_dict = dict(slot_based)"
   ]
  },
  {
   "cell_type": "code",
   "execution_count": 24,
   "metadata": {},
   "outputs": [
    {
     "data": {
      "text/plain": [
       "{'test_slot_7': 138,\n",
       " 'test_slot_4': 128,\n",
       " 'test_slot_2': 127,\n",
       " 'test_slot_1': 127,\n",
       " 'test_slot_5': 124,\n",
       " 'test_slot_8': 120,\n",
       " 'test_slot_6': 120,\n",
       " 'test_slot_3': 116}"
      ]
     },
     "execution_count": 24,
     "metadata": {},
     "output_type": "execute_result"
    }
   ],
   "source": [
    "slot_dict"
   ]
  },
  {
   "cell_type": "code",
   "execution_count": 25,
   "metadata": {},
   "outputs": [],
   "source": [
    "count = 0\n",
    "slot_overflow = \"\"\n",
    "\n",
    "for k, v in slot_dict.items():\n",
    "    if v > slot_upper_limit:\n",
    "        count = count + 1\n",
    "        slot_overflow = slot_overflow + \"\\n\" + k + \" has reached \" + str(v) + \" bookings \"\n",
    "        \n",
    "if count > 0:\n",
    "    critical = \"needs attention, slots are filling up\\n\"\n",
    "    critical_msg = \"Report : needs attention\"\n",
    "    slot_overflow = f\"The following slots have crossed {slot_upper_limit}\" + slot_overflow\n",
    "else:\n",
    "    critical = f\"no slots above {slot_upper_limit} yet\\n\"\n",
    "    critical_msg = \"Report: all good\""
   ]
  },
  {
   "cell_type": "code",
   "execution_count": 26,
   "metadata": {},
   "outputs": [
    {
     "name": "stdout",
     "output_type": "stream",
     "text": [
      "The following slots have crossed 135\n",
      "test_slot_7 has reached 138 bookings \n"
     ]
    }
   ],
   "source": [
    "print(slot_overflow)"
   ]
  },
  {
   "cell_type": "code",
   "execution_count": 27,
   "metadata": {},
   "outputs": [
    {
     "name": "stdout",
     "output_type": "stream",
     "text": [
      "needs attention, slots are filling up\n",
      "\n"
     ]
    }
   ],
   "source": [
    "print(critical)"
   ]
  },
  {
   "cell_type": "code",
   "execution_count": 29,
   "metadata": {},
   "outputs": [
    {
     "name": "stdout",
     "output_type": "stream",
     "text": [
      "Report : needs attention\n"
     ]
    }
   ],
   "source": [
    "print(critical_msg)"
   ]
  },
  {
   "cell_type": "code",
   "execution_count": 30,
   "metadata": {},
   "outputs": [],
   "source": [
    "import os"
   ]
  },
  {
   "cell_type": "code",
   "execution_count": 31,
   "metadata": {},
   "outputs": [
    {
     "name": "stdout",
     "output_type": "stream",
     "text": [
      "Help on built-in function stat in module posix:\n",
      "\n",
      "stat(path, *, dir_fd=None, follow_symlinks=True)\n",
      "    Perform a stat system call on the given path.\n",
      "    \n",
      "      path\n",
      "        Path to be examined; can be string, bytes, a path-like object or\n",
      "        open-file-descriptor int.\n",
      "      dir_fd\n",
      "        If not None, it should be a file descriptor open to a directory,\n",
      "        and path should be a relative string; path will then be relative to\n",
      "        that directory.\n",
      "      follow_symlinks\n",
      "        If False, and the last element of the path is a symbolic link,\n",
      "        stat will examine the symbolic link itself instead of the file\n",
      "        the link points to.\n",
      "    \n",
      "    dir_fd and follow_symlinks may not be implemented\n",
      "      on your platform.  If they are unavailable, using them will raise a\n",
      "      NotImplementedError.\n",
      "    \n",
      "    It's an error to use dir_fd or follow_symlinks when specifying path as\n",
      "      an open file descriptor.\n",
      "\n"
     ]
    }
   ],
   "source": [
    "help(os.stat)"
   ]
  },
  {
   "cell_type": "code",
   "execution_count": null,
   "metadata": {},
   "outputs": [
    {
     "name": "stdout",
     "output_type": "stream",
     "text": [
      "file has changed, intiating check_slots function\n",
      "intiating email\n",
      "entered ttls\n"
     ]
    }
   ],
   "source": [
    "import pandas as pd\n",
    "import os\n",
    "import numpy as np\n",
    "from datetime import datetime\n",
    "import os\n",
    "import sys\n",
    "import time\n",
    "import smtplib, ssl\n",
    "from email.mime.multipart import MIMEMultipart\n",
    "from email.mime.text import MIMEText\n",
    "from email.mime.application import MIMEApplication\n",
    "\n",
    "# fixed values\n",
    "slot_upper_limit = 140\n",
    "data_file = \"test_data.csv\"\n",
    "count = 0\n",
    "slot_overflow = \"\"\n",
    "cached_time_stamp = os.stat(data_file).st_mtime\n",
    "frequency = 1\n",
    "smtp_server = 'smtp.gmail.com'\n",
    "smtp_port = 587\n",
    "sender_id = \"trainer.nigam@gmail.com\"\n",
    "password = \"iwqxwpojganikbbl\"\n",
    "email_line = \"please check the attached text file for details\"\n",
    "critical_msg = \"\"\n",
    "critical = \"\"\n",
    "\n",
    "\n",
    "def check_slots(df):\n",
    "    global count\n",
    "    global slot_overflow\n",
    "    global critical_msg\n",
    "    global critical\n",
    "    dfa = pd.read_csv(df)\n",
    "    slot_based = dfa['test_slot'].value_counts()\n",
    "    dfb = dfa.drop_duplicates(subset=['email'], keep='last')\n",
    "\n",
    "    line1 = \"total registrations with duplicates \" + str(dfa.shape[0]) + \"\\n\"\n",
    "    line2 = \"total registrations without duplicates \" + str(dfb.shape[0]) + \"\\n\"\n",
    "    line3 = \"total slots filled (with duplicates) : \" + \"\\n\"\n",
    "    total_slots = len(dfb['test_slot'].value_counts())\n",
    "    counts = str(slot_based)\n",
    "    line4 = counts[0:counts.rfind('\\n')] + \"\\n\"\n",
    "\n",
    "    now = datetime.now()\n",
    "    line0 = now.strftime(\"on %a, %d %b at %I:%M:%p\\n\")\n",
    "    current_time = now.strftime(\"%d_%b_%I_%M_%p\")\n",
    "    file_name = \"status_\" + current_time + \".txt\"\n",
    "\n",
    "    with open(file_name, \"w\") as fa:\n",
    "        fa.write(line0)\n",
    "        fa.write(line1)\n",
    "        fa.write(line2)\n",
    "        fa.write(line3)\n",
    "        fa.write(line4)\n",
    "\n",
    "    slot_dict = dict(slot_based)\n",
    "\n",
    "    for k, v in slot_dict.items():\n",
    "        if v > slot_upper_limit:\n",
    "            count = count + 1\n",
    "            slot_overflow = slot_overflow + \"\\n\" + k + \" has reached \" + str(v) + \" bookings \"\n",
    "\n",
    "    if count > 0:\n",
    "        critical = \"needs attention, slots are filling up\\n\"\n",
    "        critical_msg = \"Report : needs attention\"\n",
    "        slot_overflow = f\"The following slots have crossed {slot_upper_limit}\" + slot_overflow\n",
    "    else:\n",
    "        critical = f\"no slots above {slot_upper_limit} yet\\n\"\n",
    "        critical_msg = \"Report: all good\"\n",
    "\n",
    "    print(\"intiating email\")\n",
    "    message = MIMEMultipart('mixed')\n",
    "    message['From'] = 'Report'.format(sender_id)\n",
    "    message['To'] = 'mr.nigam@gmail.com'\n",
    "    message['CC'] = 'sukhb9119@gmail.com'\n",
    "    message['Subject'] = critical_msg\n",
    "\n",
    "    msg_content = critical + line2 + slot_overflow + email_line\n",
    "    body = MIMEText(msg_content, 'plain')\n",
    "    message.attach(body)\n",
    "\n",
    "    fa = open(file_name)\n",
    "    attachment = MIMEText(fa.read())\n",
    "    attachment.add_header('Content-disposition', 'attachment', filename=file_name)\n",
    "    message.attach(attachment)\n",
    "    msg_full = message.as_string()\n",
    "\n",
    "    context = ssl.create_default_context()\n",
    "    with smtplib.SMTP(smtp_server, smtp_port) as server:\n",
    "        print(\"entered ttls\")\n",
    "        server.ehlo()\n",
    "        server.starttls(context=context)\n",
    "        server.login(sender_id, password)\n",
    "        server.sendmail(message[\"From\"], message[\"To\"].split(\",\"), message[\"CC\"].split(\",\"), msg_full)\n",
    "        server.quit()\n",
    "    print(\"send the email successfully\")\n",
    "\n",
    "\n",
    "def check_time_stamp(df):\n",
    "    global cached_time_stamp\n",
    "    stamp = os.stat(df).st_mtime\n",
    "    if stamp != cached_time_stamp:\n",
    "        cached_time_stamp = stamp\n",
    "        print(\"file has changed, intiating check_slots function\")\n",
    "        check_slots(data_file)\n",
    "\n",
    "def watch(df):\n",
    "    while True:\n",
    "        try:\n",
    "            time.sleep(frequency)\n",
    "            check_time_stamp(df)\n",
    "        except FileNotFoundError:\n",
    "            pass\n",
    "        except KeyboardInterrupt:\n",
    "            print(\"user has shut down the process\")\n",
    "            os._exit(0)\n",
    "\n",
    "def send_email():\n",
    "    message = MIMEMultipart('mixed')\n",
    "    message['From'] = 'Report'.format(sender_id)\n",
    "    message['To'] = 'mr.nigam@gmail.com'\n",
    "    message['CC'] = 'sukhb9119@gmail.com'\n",
    "    message['Subject'] = critical_msg\n",
    "\n",
    "    msg_content = critical + line2 + slot_overflow + email_line\n",
    "    body = MIMEText(msg_content, 'plain')\n",
    "    message.attach(body)\n",
    "\n",
    "    fa = open(file_name)\n",
    "    attachment = MIMEText(fa.read())\n",
    "    attachment.add_header('Content-disposition', 'attachment', filename=file_name)\n",
    "    message.attach(attachment)\n",
    "    msg_full = message.as_string()\n",
    "\n",
    "    context = ssl.create_default_context()\n",
    "    with smtplib.SMTP(smtp_server, smtp_port) as server:\n",
    "        server.ehlo()\n",
    "        server.starttls(context=context)\n",
    "        server.ehlo()\n",
    "        server.login(sender_id, password)\n",
    "        server.sendmail(message[\"From\"], message[\"To\"].split(\",\"), message[\"Cc\"].split(\",\"), msg_full)\n",
    "        server.quit()\n",
    "    print(\"send the email successfully\")\n",
    "\n",
    "watch(data_file)\n"
   ]
  },
  {
   "cell_type": "code",
   "execution_count": null,
   "metadata": {},
   "outputs": [],
   "source": []
  }
 ],
 "metadata": {
  "kernelspec": {
   "display_name": "Python 3",
   "language": "python",
   "name": "python3"
  },
  "language_info": {
   "codemirror_mode": {
    "name": "ipython",
    "version": 3
   },
   "file_extension": ".py",
   "mimetype": "text/x-python",
   "name": "python",
   "nbconvert_exporter": "python",
   "pygments_lexer": "ipython3",
   "version": "3.7.7"
  }
 },
 "nbformat": 4,
 "nbformat_minor": 4
}
