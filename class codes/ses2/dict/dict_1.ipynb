{
 "cells": [
  {
   "cell_type": "code",
   "execution_count": 1,
   "metadata": {},
   "outputs": [
    {
     "name": "stdout",
     "output_type": "stream",
     "text": [
      "<class 'set'>\n"
     ]
    }
   ],
   "source": [
    "avengers = {'thor', 'captain', 'ironman', 'wanda'}\n",
    "\n",
    "print(type(avengers))"
   ]
  },
  {
   "cell_type": "code",
   "execution_count": 2,
   "metadata": {},
   "outputs": [
    {
     "name": "stdout",
     "output_type": "stream",
     "text": [
      "<class 'dict'>\n"
     ]
    }
   ],
   "source": [
    "avengers = {'thor':'hammer', 'captain':'shield', 'ironman':'suit', 'wanda':'magic'}\n",
    "\n",
    "print(type(avengers))"
   ]
  },
  {
   "cell_type": "code",
   "execution_count": 3,
   "metadata": {},
   "outputs": [
    {
     "name": "stdout",
     "output_type": "stream",
     "text": [
      "suit\n"
     ]
    }
   ],
   "source": [
    "print(avengers['ironman'])"
   ]
  },
  {
   "cell_type": "code",
   "execution_count": 5,
   "metadata": {},
   "outputs": [],
   "source": [
    "avengers['captain'] = ['shield', 'hammer']\n",
    "avengers['hawkeye'] = 'arrows'"
   ]
  },
  {
   "cell_type": "code",
   "execution_count": 6,
   "metadata": {},
   "outputs": [
    {
     "name": "stdout",
     "output_type": "stream",
     "text": [
      "{'thor': 'hammer', 'captain': ['shield', 'hammer'], 'ironman': 'suit', 'wanda': 'magic', 'hawkeye': 'arrows'}\n"
     ]
    }
   ],
   "source": [
    "print(avengers)"
   ]
  },
  {
   "cell_type": "code",
   "execution_count": 7,
   "metadata": {},
   "outputs": [
    {
     "name": "stdout",
     "output_type": "stream",
     "text": [
      "dict_keys(['thor', 'captain', 'ironman', 'wanda', 'hawkeye'])\n"
     ]
    }
   ],
   "source": [
    "print(avengers.keys())"
   ]
  },
  {
   "cell_type": "code",
   "execution_count": 8,
   "metadata": {},
   "outputs": [
    {
     "name": "stdout",
     "output_type": "stream",
     "text": [
      "dict_values(['hammer', ['shield', 'hammer'], 'suit', 'magic', 'arrows'])\n"
     ]
    }
   ],
   "source": [
    "print(avengers.values())"
   ]
  },
  {
   "cell_type": "code",
   "execution_count": 9,
   "metadata": {},
   "outputs": [
    {
     "name": "stdout",
     "output_type": "stream",
     "text": [
      "dict_items([('thor', 'hammer'), ('captain', ['shield', 'hammer']), ('ironman', 'suit'), ('wanda', 'magic'), ('hawkeye', 'arrows')])\n"
     ]
    }
   ],
   "source": [
    "print(avengers.items())"
   ]
  },
  {
   "cell_type": "code",
   "execution_count": 10,
   "metadata": {},
   "outputs": [
    {
     "data": {
      "text/plain": [
       "'shield'"
      ]
     },
     "execution_count": 10,
     "metadata": {},
     "output_type": "execute_result"
    }
   ],
   "source": [
    "avengers['captain'].pop(0)"
   ]
  },
  {
   "cell_type": "code",
   "execution_count": 11,
   "metadata": {},
   "outputs": [
    {
     "name": "stdout",
     "output_type": "stream",
     "text": [
      "dict_items([('thor', 'hammer'), ('captain', ['hammer']), ('ironman', 'suit'), ('wanda', 'magic'), ('hawkeye', 'arrows')])\n"
     ]
    }
   ],
   "source": [
    "print(avengers.items())"
   ]
  },
  {
   "cell_type": "code",
   "execution_count": 12,
   "metadata": {},
   "outputs": [
    {
     "name": "stdout",
     "output_type": "stream",
     "text": [
      "{'thor': 'hammer', 'captain': ['hammer'], 'ironman': 'suit', 'wanda': 'magic', 'hawkeye': 'arrows'}\n"
     ]
    }
   ],
   "source": [
    "print(avengers)"
   ]
  },
  {
   "cell_type": "code",
   "execution_count": 13,
   "metadata": {},
   "outputs": [],
   "source": [
    "avengers = {'thor': 'hammer', \n",
    "            'captain': ['shield', 'hammer'], \n",
    "            'ironman': 'suit', \n",
    "            'wanda': 'magic', \n",
    "            'hawkeye': 'arrows'}"
   ]
  },
  {
   "cell_type": "code",
   "execution_count": 15,
   "metadata": {},
   "outputs": [],
   "source": [
    "xmen = ['magneto', 'mystique']"
   ]
  },
  {
   "cell_type": "code",
   "execution_count": 16,
   "metadata": {},
   "outputs": [],
   "source": [
    "marvel = {'xmen':xmen, 'ave':avengers}"
   ]
  },
  {
   "cell_type": "code",
   "execution_count": 17,
   "metadata": {},
   "outputs": [
    {
     "name": "stdout",
     "output_type": "stream",
     "text": [
      "{'xmen': ['magneto', 'mystique'], 'ave': {'thor': 'hammer', 'captain': ['shield', 'hammer'], 'ironman': 'suit', 'wanda': 'magic', 'hawkeye': 'arrows'}}\n"
     ]
    }
   ],
   "source": [
    "print(marvel)"
   ]
  },
  {
   "cell_type": "code",
   "execution_count": 18,
   "metadata": {},
   "outputs": [
    {
     "name": "stdout",
     "output_type": "stream",
     "text": [
      "h\n"
     ]
    }
   ],
   "source": [
    "print(marvel['ave']['captain'][0][1])"
   ]
  },
  {
   "cell_type": "code",
   "execution_count": null,
   "metadata": {},
   "outputs": [],
   "source": []
  }
 ],
 "metadata": {
  "kernelspec": {
   "display_name": "Python 3",
   "language": "python",
   "name": "python3"
  },
  "language_info": {
   "codemirror_mode": {
    "name": "ipython",
    "version": 3
   },
   "file_extension": ".py",
   "mimetype": "text/x-python",
   "name": "python",
   "nbconvert_exporter": "python",
   "pygments_lexer": "ipython3",
   "version": "3.7.7"
  }
 },
 "nbformat": 4,
 "nbformat_minor": 4
}
