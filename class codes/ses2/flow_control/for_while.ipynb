{
 "cells": [
  {
   "cell_type": "code",
   "execution_count": 1,
   "metadata": {},
   "outputs": [],
   "source": [
    "val = 3\n",
    "\n",
    "while val < 6 :\n",
    "    print(\"val =\", val)\n",
    "    val = val + 1"
   ]
  },
  {
   "cell_type": "code",
   "execution_count": 2,
   "metadata": {},
   "outputs": [],
   "source": [
    "for i in range(5):\n",
    "    print(\"i =\", i)"
   ]
  },
  {
   "cell_type": "code",
   "execution_count": 3,
   "metadata": {},
   "outputs": [],
   "source": [
    "for i in range(2, 7):\n",
    "    print(\"i =\", i)"
   ]
  },
  {
   "cell_type": "code",
   "execution_count": 4,
   "metadata": {},
   "outputs": [],
   "source": [
    "for i in range(2, 17, 3):\n",
    "    print(\"i =\", i) "
   ]
  },
  {
   "cell_type": "code",
   "execution_count": 5,
   "metadata": {},
   "outputs": [],
   "source": [
    "for i in range(10, 6):\n",
    "    print(\"i =\", i) "
   ]
  },
  {
   "cell_type": "code",
   "execution_count": 6,
   "metadata": {},
   "outputs": [],
   "source": [
    "for i in range(10, 6, -1):\n",
    "    print(\"i =\", i) "
   ]
  },
  {
   "cell_type": "code",
   "execution_count": 7,
   "metadata": {},
   "outputs": [],
   "source": [
    "list(range(16))"
   ]
  },
  {
   "cell_type": "code",
   "execution_count": 8,
   "metadata": {},
   "outputs": [],
   "source": [
    "listx = ['aa', 'ff', 'tt', 'aa', 'rr', 'ee', 'aa', 'cc', 'pp', 'jj', 'aa']"
   ]
  },
  {
   "cell_type": "code",
   "execution_count": 9,
   "metadata": {},
   "outputs": [],
   "source": [
    "for i in range(len(listx)):\n",
    "    print(\"value =\", listx[i])"
   ]
  },
  {
   "cell_type": "code",
   "execution_count": 10,
   "metadata": {},
   "outputs": [],
   "source": [
    "for val in listx:\n",
    "    print(\"val =\", val)"
   ]
  },
  {
   "cell_type": "code",
   "execution_count": 11,
   "metadata": {},
   "outputs": [],
   "source": [
    "for val in listx:\n",
    "    if val == \"rr\":\n",
    "        print(\"found rr\")\n",
    "        break"
   ]
  },
  {
   "cell_type": "code",
   "execution_count": 12,
   "metadata": {},
   "outputs": [],
   "source": [
    "for val in listx:\n",
    "    if val == \"bb\":\n",
    "        print(\"found rr\")\n",
    "        break"
   ]
  },
  {
   "cell_type": "code",
   "execution_count": 13,
   "metadata": {},
   "outputs": [
    {
     "name": "stdout",
     "output_type": "stream",
     "text": [
      "did not find\n",
      "did not find\n",
      "did not find\n",
      "did not find\n",
      "did not find\n",
      "did not find\n",
      "did not find\n",
      "did not find\n",
      "did not find\n",
      "did not find\n",
      "did not find\n"
     ]
    }
   ],
   "source": [
    "for val in listx:\n",
    "    if val == \"bb\":\n",
    "        print(\"found rr\")\n",
    "        break\n",
    "    else:\n",
    "        print(\"did not find\")"
   ]
  },
  {
   "cell_type": "code",
   "execution_count": 14,
   "metadata": {},
   "outputs": [
    {
     "name": "stdout",
     "output_type": "stream",
     "text": [
      "did not find\n"
     ]
    }
   ],
   "source": [
    "for val in listx:\n",
    "    if val == \"bb\":\n",
    "        print(\"found bb\")\n",
    "        break\n",
    "else:\n",
    "    print(\"did not find\")"
   ]
  },
  {
   "cell_type": "code",
   "execution_count": 15,
   "metadata": {},
   "outputs": [
    {
     "name": "stdout",
     "output_type": "stream",
     "text": [
      "found rr\n"
     ]
    }
   ],
   "source": [
    "for val in listx:\n",
    "    if val == \"rr\":\n",
    "        print(\"found rr\")\n",
    "        break\n",
    "else:\n",
    "    print(\"did not find\")"
   ]
  },
  {
   "cell_type": "code",
   "execution_count": 16,
   "metadata": {},
   "outputs": [
    {
     "name": "stdout",
     "output_type": "stream",
     "text": [
      "found rr\n",
      "did not find\n"
     ]
    }
   ],
   "source": [
    "for val in listx:\n",
    "    if val == \"rr\":\n",
    "        print(\"found rr\")\n",
    "else:\n",
    "    print(\"did not find\")"
   ]
  },
  {
   "cell_type": "code",
   "execution_count": 17,
   "metadata": {},
   "outputs": [],
   "source": [
    "listx = ['aa', 'ff', 'tt', 'aa', 'rr', 'ee', 'aa', 'cc', 'pp', 'jj', 'aa']"
   ]
  },
  {
   "cell_type": "code",
   "execution_count": 18,
   "metadata": {},
   "outputs": [],
   "source": [
    "index_aa = []\n",
    "\n",
    "for i in range(len(listx)):\n",
    "    if listx[i] == \"aa\":\n",
    "        index_aa.append(i)"
   ]
  },
  {
   "cell_type": "code",
   "execution_count": 19,
   "metadata": {},
   "outputs": [
    {
     "name": "stdout",
     "output_type": "stream",
     "text": [
      "[0, 3, 6, 10]\n"
     ]
    }
   ],
   "source": [
    "print(index_aa)"
   ]
  },
  {
   "cell_type": "code",
   "execution_count": 20,
   "metadata": {},
   "outputs": [],
   "source": [
    "index_aa = []\n",
    "\n",
    "for i in range(len(listx)):\n",
    "    if listx[i] == \"aa\":\n",
    "        index_aa.append(i)\n",
    "    if len(index_aa) == 3:\n",
    "        break"
   ]
  },
  {
   "cell_type": "code",
   "execution_count": 21,
   "metadata": {},
   "outputs": [
    {
     "data": {
      "text/plain": [
       "[0, 3, 6]"
      ]
     },
     "execution_count": 21,
     "metadata": {},
     "output_type": "execute_result"
    }
   ],
   "source": [
    "index_aa"
   ]
  },
  {
   "cell_type": "code",
   "execution_count": 22,
   "metadata": {},
   "outputs": [],
   "source": [
    "dicta = {20:\"aa\", 30:\"rr\", 40:\"ff\", 60:\"ss\"}"
   ]
  },
  {
   "cell_type": "code",
   "execution_count": 23,
   "metadata": {},
   "outputs": [
    {
     "name": "stdout",
     "output_type": "stream",
     "text": [
      "i = 20\n",
      "i = 30\n",
      "i = 40\n",
      "i = 60\n"
     ]
    }
   ],
   "source": [
    "for i in dicta:\n",
    "    print(\"i =\", i)"
   ]
  },
  {
   "cell_type": "code",
   "execution_count": 24,
   "metadata": {},
   "outputs": [
    {
     "name": "stdout",
     "output_type": "stream",
     "text": [
      "i = aa\n",
      "i = rr\n",
      "i = ff\n",
      "i = ss\n"
     ]
    }
   ],
   "source": [
    "for i in dicta.values():\n",
    "    print(\"i =\", i)"
   ]
  },
  {
   "cell_type": "code",
   "execution_count": 25,
   "metadata": {},
   "outputs": [
    {
     "name": "stdout",
     "output_type": "stream",
     "text": [
      "k = 20\n",
      "v = aa\n",
      "++++++++\n",
      "k = 30\n",
      "v = rr\n",
      "++++++++\n",
      "k = 40\n",
      "v = ff\n",
      "++++++++\n",
      "k = 60\n",
      "v = ss\n",
      "++++++++\n"
     ]
    }
   ],
   "source": [
    "for k, v in dicta.items():\n",
    "    print(\"k =\", k)\n",
    "    print(\"v =\", v)\n",
    "    print(\"++++++++\")"
   ]
  },
  {
   "cell_type": "code",
   "execution_count": 26,
   "metadata": {},
   "outputs": [],
   "source": [
    "listx = ['aa', 'ff', 'tt', 'aa', 'rr', 'ee', 'aa', 'cc', 'pp', 'ff', 'aa', 'rr']"
   ]
  },
  {
   "cell_type": "code",
   "execution_count": 27,
   "metadata": {},
   "outputs": [
    {
     "data": {
      "text/plain": [
       "{'aa': 4, 'ff': 2}"
      ]
     },
     "execution_count": 27,
     "metadata": {},
     "output_type": "execute_result"
    }
   ],
   "source": [
    "{'aa':4, 'ff':2}"
   ]
  },
  {
   "cell_type": "code",
   "execution_count": 28,
   "metadata": {},
   "outputs": [],
   "source": [
    "dictx = {}\n",
    "\n",
    "for val in listx:\n",
    "    if val not in dictx:\n",
    "        dictx[val] = 1\n",
    "    else:\n",
    "        dictx[val] = dictx[val] + 1"
   ]
  },
  {
   "cell_type": "code",
   "execution_count": 29,
   "metadata": {},
   "outputs": [
    {
     "name": "stdout",
     "output_type": "stream",
     "text": [
      "{'aa': 4, 'ff': 2, 'tt': 1, 'rr': 2, 'ee': 1, 'cc': 1, 'pp': 1}\n"
     ]
    }
   ],
   "source": [
    "print(dictx)"
   ]
  },
  {
   "cell_type": "code",
   "execution_count": null,
   "metadata": {},
   "outputs": [],
   "source": []
  }
 ],
 "metadata": {
  "kernelspec": {
   "display_name": "Python 3",
   "language": "python",
   "name": "python3"
  },
  "language_info": {
   "codemirror_mode": {
    "name": "ipython",
    "version": 3
   },
   "file_extension": ".py",
   "mimetype": "text/x-python",
   "name": "python",
   "nbconvert_exporter": "python",
   "pygments_lexer": "ipython3",
   "version": "3.7.7"
  }
 },
 "nbformat": 4,
 "nbformat_minor": 4
}
