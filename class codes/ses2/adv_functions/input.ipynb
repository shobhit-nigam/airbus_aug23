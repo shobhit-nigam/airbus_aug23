{
 "cells": [
  {
   "cell_type": "code",
   "execution_count": 1,
   "metadata": {},
   "outputs": [
    {
     "name": "stdout",
     "output_type": "stream",
     "text": [
      "hello\n",
      "varx = hello\n"
     ]
    }
   ],
   "source": [
    "varx = input()\n",
    "\n",
    "print(\"varx =\", varx)"
   ]
  },
  {
   "cell_type": "code",
   "execution_count": 3,
   "metadata": {},
   "outputs": [
    {
     "name": "stdout",
     "output_type": "stream",
     "text": [
      "hi\n",
      "varx = hi\n",
      "type of varx = <class 'str'>\n"
     ]
    }
   ],
   "source": [
    "varx = input()\n",
    "\n",
    "print(\"varx =\", varx)\n",
    "print(\"type of varx =\", type(varx))"
   ]
  },
  {
   "cell_type": "code",
   "execution_count": 4,
   "metadata": {},
   "outputs": [
    {
     "name": "stdout",
     "output_type": "stream",
     "text": [
      "43\n",
      "varx = 43\n",
      "type of varx = <class 'str'>\n"
     ]
    }
   ],
   "source": [
    "varx = input()\n",
    "\n",
    "print(\"varx =\", varx)\n",
    "print(\"type of varx =\", type(varx))"
   ]
  },
  {
   "cell_type": "code",
   "execution_count": 5,
   "metadata": {},
   "outputs": [
    {
     "name": "stdout",
     "output_type": "stream",
     "text": [
      "34\n",
      "varx = 34\n",
      "type of varx = <class 'int'>\n"
     ]
    }
   ],
   "source": [
    "varx = int(input())\n",
    "\n",
    "print(\"varx =\", varx)\n",
    "print(\"type of varx =\", type(varx))"
   ]
  },
  {
   "cell_type": "code",
   "execution_count": null,
   "metadata": {},
   "outputs": [],
   "source": [
    "varx = eval(input())\n",
    "\n",
    "print(\"varx =\", varx)\n",
    "print(\"type of varx =\", type(varx))"
   ]
  }
 ],
 "metadata": {
  "kernelspec": {
   "display_name": "Python 3",
   "language": "python",
   "name": "python3"
  },
  "language_info": {
   "codemirror_mode": {
    "name": "ipython",
    "version": 3
   },
   "file_extension": ".py",
   "mimetype": "text/x-python",
   "name": "python",
   "nbconvert_exporter": "python",
   "pygments_lexer": "ipython3",
   "version": "3.7.7"
  }
 },
 "nbformat": 4,
 "nbformat_minor": 4
}
