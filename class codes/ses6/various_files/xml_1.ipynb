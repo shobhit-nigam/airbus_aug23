{
 "cells": [
  {
   "cell_type": "code",
   "execution_count": 1,
   "metadata": {},
   "outputs": [],
   "source": [
    "import xml.etree.ElementTree as ET"
   ]
  },
  {
   "cell_type": "code",
   "execution_count": 3,
   "metadata": {},
   "outputs": [],
   "source": [
    "tree_x = ET.parse('books.xml')"
   ]
  },
  {
   "cell_type": "code",
   "execution_count": 4,
   "metadata": {},
   "outputs": [],
   "source": [
    "root_x = tree_x.getroot()"
   ]
  },
  {
   "cell_type": "code",
   "execution_count": 5,
   "metadata": {},
   "outputs": [
    {
     "name": "stdout",
     "output_type": "stream",
     "text": [
      "catalog\n"
     ]
    }
   ],
   "source": [
    "print(root_x.tag)"
   ]
  },
  {
   "cell_type": "code",
   "execution_count": 6,
   "metadata": {},
   "outputs": [
    {
     "name": "stdout",
     "output_type": "stream",
     "text": [
      "12\n"
     ]
    }
   ],
   "source": [
    "print(len(root_x))"
   ]
  },
  {
   "cell_type": "code",
   "execution_count": 7,
   "metadata": {},
   "outputs": [
    {
     "name": "stdout",
     "output_type": "stream",
     "text": [
      "{}\n"
     ]
    }
   ],
   "source": [
    "print(root_x.attrib)"
   ]
  },
  {
   "cell_type": "code",
   "execution_count": 8,
   "metadata": {},
   "outputs": [
    {
     "name": "stdout",
     "output_type": "stream",
     "text": [
      "book\n"
     ]
    }
   ],
   "source": [
    "print(root_x[3].tag)"
   ]
  },
  {
   "cell_type": "code",
   "execution_count": 9,
   "metadata": {},
   "outputs": [
    {
     "name": "stdout",
     "output_type": "stream",
     "text": [
      "{'id': 'bk104'}\n"
     ]
    }
   ],
   "source": [
    "print(root_x[3].attrib)"
   ]
  },
  {
   "cell_type": "code",
   "execution_count": 10,
   "metadata": {},
   "outputs": [
    {
     "name": "stdout",
     "output_type": "stream",
     "text": [
      "{'id': 'bk101'}\n",
      "{'id': 'bk102'}\n",
      "{'id': 'bk103'}\n",
      "{'id': 'bk104'}\n",
      "{'id': 'bk105'}\n",
      "{'id': 'bk106'}\n",
      "{'id': 'bk107'}\n",
      "{'id': 'bk108'}\n",
      "{'id': 'bk109'}\n",
      "{'id': 'bk110'}\n",
      "{'id': 'bk111'}\n",
      "{'id': 'bk112'}\n"
     ]
    }
   ],
   "source": [
    "for child in root_x:\n",
    "    print(child.attrib)"
   ]
  },
  {
   "cell_type": "code",
   "execution_count": 11,
   "metadata": {},
   "outputs": [
    {
     "name": "stdout",
     "output_type": "stream",
     "text": [
      "author\n",
      "title\n",
      "genre\n",
      "price\n",
      "publish_date\n",
      "description\n"
     ]
    }
   ],
   "source": [
    "for child in root_x[0]:\n",
    "    print(child.tag)"
   ]
  },
  {
   "cell_type": "code",
   "execution_count": 12,
   "metadata": {},
   "outputs": [
    {
     "name": "stdout",
     "output_type": "stream",
     "text": [
      "Gambardella, Matthew\n",
      "XML Developer's Guide\n",
      "Computer\n",
      "44.95\n",
      "2000-10-01\n",
      "An in-depth look at creating applications \n",
      "      with XML.\n"
     ]
    }
   ],
   "source": [
    "for child in root_x[0]:\n",
    "    print(child.text)"
   ]
  },
  {
   "cell_type": "code",
   "execution_count": 13,
   "metadata": {},
   "outputs": [
    {
     "name": "stdout",
     "output_type": "stream",
     "text": [
      "author :\tGambardella, Matthew\n",
      "title :\tXML Developer's Guide\n",
      "genre :\tComputer\n",
      "price :\t44.95\n",
      "publish_date :\t2000-10-01\n",
      "description :\tAn in-depth look at creating applications \n",
      "      with XML.\n"
     ]
    }
   ],
   "source": [
    "for child in root_x[0]:\n",
    "    print(child.tag + \" :\\t\" + child.text)"
   ]
  },
  {
   "cell_type": "code",
   "execution_count": 15,
   "metadata": {},
   "outputs": [
    {
     "name": "stdout",
     "output_type": "stream",
     "text": [
      "\"XML Developer's Guide\" is priced at 44.95\n",
      "\"Midnight Rain\" is priced at 5.95\n",
      "\"Maeve Ascendant\" is priced at 5.95\n",
      "\"Oberon's Legacy\" is priced at 5.95\n",
      "\"The Sundered Grail\" is priced at 5.95\n",
      "\"Lover Birds\" is priced at 4.95\n",
      "\"Splish Splash\" is priced at 4.95\n",
      "\"Creepy Crawlies\" is priced at 4.95\n",
      "\"Paradox Lost\" is priced at 6.95\n",
      "\"Microsoft .NET: The Programming Bible\" is priced at 36.95\n",
      "\"MSXML3: A Comprehensive Guide\" is priced at 36.95\n",
      "\"Visual Studio 7: A Comprehensive Guide\" is priced at 49.95\n"
     ]
    }
   ],
   "source": [
    "for x in root_x.findall('book'):\n",
    "    title = x.find('title').text\n",
    "    price = x.find('price').text\n",
    "    \n",
    "    print(f\"\\\"{title}\\\" is priced at {price}\")"
   ]
  },
  {
   "cell_type": "code",
   "execution_count": 16,
   "metadata": {},
   "outputs": [],
   "source": [
    "# columns \n",
    "\n",
    "cols = []\n",
    "\n",
    "for child in root_x[0]:\n",
    "    cols.append(child.tag)"
   ]
  },
  {
   "cell_type": "code",
   "execution_count": 17,
   "metadata": {},
   "outputs": [
    {
     "data": {
      "text/plain": [
       "['author', 'title', 'genre', 'price', 'publish_date', 'description']"
      ]
     },
     "execution_count": 17,
     "metadata": {},
     "output_type": "execute_result"
    }
   ],
   "source": [
    "cols"
   ]
  },
  {
   "cell_type": "code",
   "execution_count": 23,
   "metadata": {},
   "outputs": [],
   "source": [
    "tree_x = ET.parse('books.xml')\n",
    "root_x = tree_x.getroot()\n",
    "rows = []\n",
    "\n",
    "for child in root_x:\n",
    "    temp = {}\n",
    "    temp.update(child.attrib)\n",
    "    for x in child:\n",
    "        temp[x.tag] = x.text\n",
    "    rows.append(temp)"
   ]
  },
  {
   "cell_type": "code",
   "execution_count": 24,
   "metadata": {},
   "outputs": [
    {
     "data": {
      "text/plain": [
       "{'id': 'bk101',\n",
       " 'author': 'Gambardella, Matthew',\n",
       " 'title': \"XML Developer's Guide\",\n",
       " 'genre': 'Computer',\n",
       " 'price': '44.95',\n",
       " 'publish_date': '2000-10-01',\n",
       " 'description': 'An in-depth look at creating applications \\n      with XML.'}"
      ]
     },
     "execution_count": 24,
     "metadata": {},
     "output_type": "execute_result"
    }
   ],
   "source": [
    "rows[0]"
   ]
  },
  {
   "cell_type": "code",
   "execution_count": 25,
   "metadata": {},
   "outputs": [],
   "source": [
    "import pandas as pd"
   ]
  },
  {
   "cell_type": "code",
   "execution_count": 26,
   "metadata": {},
   "outputs": [],
   "source": [
    "tree_x = ET.parse('books.xml')\n",
    "root_x = tree_x.getroot()\n",
    "rows = []\n",
    "cols = []\n",
    "\n",
    "for child in root_x:\n",
    "    temp = {}\n",
    "    temp.update(child.attrib)\n",
    "    for x in child:\n",
    "        temp[x.tag] = x.text\n",
    "    rows.append(temp)\n",
    "    cols = list(temp.keys())\n",
    "    \n",
    "dfa = pd.DataFrame(rows, columns=cols)"
   ]
  },
  {
   "cell_type": "code",
   "execution_count": 27,
   "metadata": {},
   "outputs": [
    {
     "data": {
      "text/html": [
       "<div>\n",
       "<style scoped>\n",
       "    .dataframe tbody tr th:only-of-type {\n",
       "        vertical-align: middle;\n",
       "    }\n",
       "\n",
       "    .dataframe tbody tr th {\n",
       "        vertical-align: top;\n",
       "    }\n",
       "\n",
       "    .dataframe thead th {\n",
       "        text-align: right;\n",
       "    }\n",
       "</style>\n",
       "<table border=\"1\" class=\"dataframe\">\n",
       "  <thead>\n",
       "    <tr style=\"text-align: right;\">\n",
       "      <th></th>\n",
       "      <th>id</th>\n",
       "      <th>author</th>\n",
       "      <th>title</th>\n",
       "      <th>genre</th>\n",
       "      <th>price</th>\n",
       "      <th>publish_date</th>\n",
       "      <th>description</th>\n",
       "    </tr>\n",
       "  </thead>\n",
       "  <tbody>\n",
       "    <tr>\n",
       "      <th>0</th>\n",
       "      <td>bk101</td>\n",
       "      <td>Gambardella, Matthew</td>\n",
       "      <td>XML Developer's Guide</td>\n",
       "      <td>Computer</td>\n",
       "      <td>44.95</td>\n",
       "      <td>2000-10-01</td>\n",
       "      <td>An in-depth look at creating applications \\n  ...</td>\n",
       "    </tr>\n",
       "    <tr>\n",
       "      <th>1</th>\n",
       "      <td>bk102</td>\n",
       "      <td>Ralls, Kim</td>\n",
       "      <td>Midnight Rain</td>\n",
       "      <td>Fantasy</td>\n",
       "      <td>5.95</td>\n",
       "      <td>2000-12-16</td>\n",
       "      <td>A former architect battles corporate zombies, ...</td>\n",
       "    </tr>\n",
       "    <tr>\n",
       "      <th>2</th>\n",
       "      <td>bk103</td>\n",
       "      <td>Corets, Eva</td>\n",
       "      <td>Maeve Ascendant</td>\n",
       "      <td>Fantasy</td>\n",
       "      <td>5.95</td>\n",
       "      <td>2000-11-17</td>\n",
       "      <td>After the collapse of a nanotechnology \\n     ...</td>\n",
       "    </tr>\n",
       "    <tr>\n",
       "      <th>3</th>\n",
       "      <td>bk104</td>\n",
       "      <td>Corets, Eva</td>\n",
       "      <td>Oberon's Legacy</td>\n",
       "      <td>Fantasy</td>\n",
       "      <td>5.95</td>\n",
       "      <td>2001-03-10</td>\n",
       "      <td>In post-apocalypse England, the mysterious \\n ...</td>\n",
       "    </tr>\n",
       "    <tr>\n",
       "      <th>4</th>\n",
       "      <td>bk105</td>\n",
       "      <td>Corets, Eva</td>\n",
       "      <td>The Sundered Grail</td>\n",
       "      <td>Fantasy</td>\n",
       "      <td>5.95</td>\n",
       "      <td>2001-09-10</td>\n",
       "      <td>The two daughters of Maeve, half-sisters, \\n  ...</td>\n",
       "    </tr>\n",
       "    <tr>\n",
       "      <th>5</th>\n",
       "      <td>bk106</td>\n",
       "      <td>Randall, Cynthia</td>\n",
       "      <td>Lover Birds</td>\n",
       "      <td>Romance</td>\n",
       "      <td>4.95</td>\n",
       "      <td>2000-09-02</td>\n",
       "      <td>When Carla meets Paul at an ornithology \\n    ...</td>\n",
       "    </tr>\n",
       "    <tr>\n",
       "      <th>6</th>\n",
       "      <td>bk107</td>\n",
       "      <td>Thurman, Paula</td>\n",
       "      <td>Splish Splash</td>\n",
       "      <td>Romance</td>\n",
       "      <td>4.95</td>\n",
       "      <td>2000-11-02</td>\n",
       "      <td>A deep sea diver finds true love twenty \\n    ...</td>\n",
       "    </tr>\n",
       "    <tr>\n",
       "      <th>7</th>\n",
       "      <td>bk108</td>\n",
       "      <td>Knorr, Stefan</td>\n",
       "      <td>Creepy Crawlies</td>\n",
       "      <td>Horror</td>\n",
       "      <td>4.95</td>\n",
       "      <td>2000-12-06</td>\n",
       "      <td>An anthology of horror stories about roaches,\\...</td>\n",
       "    </tr>\n",
       "    <tr>\n",
       "      <th>8</th>\n",
       "      <td>bk109</td>\n",
       "      <td>Kress, Peter</td>\n",
       "      <td>Paradox Lost</td>\n",
       "      <td>Science Fiction</td>\n",
       "      <td>6.95</td>\n",
       "      <td>2000-11-02</td>\n",
       "      <td>After an inadvertant trip through a Heisenberg...</td>\n",
       "    </tr>\n",
       "    <tr>\n",
       "      <th>9</th>\n",
       "      <td>bk110</td>\n",
       "      <td>O'Brien, Tim</td>\n",
       "      <td>Microsoft .NET: The Programming Bible</td>\n",
       "      <td>Computer</td>\n",
       "      <td>36.95</td>\n",
       "      <td>2000-12-09</td>\n",
       "      <td>Microsoft's .NET initiative is explored in \\n ...</td>\n",
       "    </tr>\n",
       "    <tr>\n",
       "      <th>10</th>\n",
       "      <td>bk111</td>\n",
       "      <td>O'Brien, Tim</td>\n",
       "      <td>MSXML3: A Comprehensive Guide</td>\n",
       "      <td>Computer</td>\n",
       "      <td>36.95</td>\n",
       "      <td>2000-12-01</td>\n",
       "      <td>The Microsoft MSXML3 parser is covered in \\n  ...</td>\n",
       "    </tr>\n",
       "    <tr>\n",
       "      <th>11</th>\n",
       "      <td>bk112</td>\n",
       "      <td>Galos, Mike</td>\n",
       "      <td>Visual Studio 7: A Comprehensive Guide</td>\n",
       "      <td>Computer</td>\n",
       "      <td>49.95</td>\n",
       "      <td>2001-04-16</td>\n",
       "      <td>Microsoft Visual Studio 7 is explored in depth...</td>\n",
       "    </tr>\n",
       "  </tbody>\n",
       "</table>\n",
       "</div>"
      ],
      "text/plain": [
       "       id                author                                   title  \\\n",
       "0   bk101  Gambardella, Matthew                   XML Developer's Guide   \n",
       "1   bk102            Ralls, Kim                           Midnight Rain   \n",
       "2   bk103           Corets, Eva                         Maeve Ascendant   \n",
       "3   bk104           Corets, Eva                         Oberon's Legacy   \n",
       "4   bk105           Corets, Eva                      The Sundered Grail   \n",
       "5   bk106      Randall, Cynthia                             Lover Birds   \n",
       "6   bk107        Thurman, Paula                           Splish Splash   \n",
       "7   bk108         Knorr, Stefan                         Creepy Crawlies   \n",
       "8   bk109          Kress, Peter                            Paradox Lost   \n",
       "9   bk110          O'Brien, Tim   Microsoft .NET: The Programming Bible   \n",
       "10  bk111          O'Brien, Tim           MSXML3: A Comprehensive Guide   \n",
       "11  bk112           Galos, Mike  Visual Studio 7: A Comprehensive Guide   \n",
       "\n",
       "              genre  price publish_date  \\\n",
       "0          Computer  44.95   2000-10-01   \n",
       "1           Fantasy   5.95   2000-12-16   \n",
       "2           Fantasy   5.95   2000-11-17   \n",
       "3           Fantasy   5.95   2001-03-10   \n",
       "4           Fantasy   5.95   2001-09-10   \n",
       "5           Romance   4.95   2000-09-02   \n",
       "6           Romance   4.95   2000-11-02   \n",
       "7            Horror   4.95   2000-12-06   \n",
       "8   Science Fiction   6.95   2000-11-02   \n",
       "9          Computer  36.95   2000-12-09   \n",
       "10         Computer  36.95   2000-12-01   \n",
       "11         Computer  49.95   2001-04-16   \n",
       "\n",
       "                                          description  \n",
       "0   An in-depth look at creating applications \\n  ...  \n",
       "1   A former architect battles corporate zombies, ...  \n",
       "2   After the collapse of a nanotechnology \\n     ...  \n",
       "3   In post-apocalypse England, the mysterious \\n ...  \n",
       "4   The two daughters of Maeve, half-sisters, \\n  ...  \n",
       "5   When Carla meets Paul at an ornithology \\n    ...  \n",
       "6   A deep sea diver finds true love twenty \\n    ...  \n",
       "7   An anthology of horror stories about roaches,\\...  \n",
       "8   After an inadvertant trip through a Heisenberg...  \n",
       "9   Microsoft's .NET initiative is explored in \\n ...  \n",
       "10  The Microsoft MSXML3 parser is covered in \\n  ...  \n",
       "11  Microsoft Visual Studio 7 is explored in depth...  "
      ]
     },
     "execution_count": 27,
     "metadata": {},
     "output_type": "execute_result"
    }
   ],
   "source": [
    "dfa"
   ]
  },
  {
   "cell_type": "code",
   "execution_count": 28,
   "metadata": {},
   "outputs": [],
   "source": [
    "dfa.to_excel(\"books.xlsx\")"
   ]
  },
  {
   "cell_type": "code",
   "execution_count": 32,
   "metadata": {},
   "outputs": [
    {
     "data": {
      "text/plain": [
       "False"
      ]
     },
     "execution_count": 32,
     "metadata": {},
     "output_type": "execute_result"
    }
   ],
   "source": [
    "\"45.34\".isdecimal()"
   ]
  },
  {
   "cell_type": "code",
   "execution_count": 34,
   "metadata": {},
   "outputs": [],
   "source": [
    "# Check if a string represents a float in Python\n",
    "def is_float(a_string):\n",
    "    try:\n",
    "        float(a_string)\n",
    "        return True\n",
    "    except ValueError:\n",
    "        return False"
   ]
  },
  {
   "cell_type": "code",
   "execution_count": 35,
   "metadata": {},
   "outputs": [],
   "source": [
    "tree_x = ET.parse('books.xml')\n",
    "root_x = tree_x.getroot()\n",
    "rows = []\n",
    "cols = []\n",
    "\n",
    "for child in root_x:\n",
    "    temp = {}\n",
    "    temp.update(child.attrib)\n",
    "    for x in child:\n",
    "        if is_float(x.text):\n",
    "            temp[x.tag] = float(x.text)\n",
    "        else:\n",
    "            temp[x.tag] = x.text\n",
    "    rows.append(temp)\n",
    "    cols = list(temp.keys())\n",
    "    \n",
    "dfa = pd.DataFrame(rows, columns=cols)\n",
    "\n",
    "dfa.to_excel(\"books.xlsx\")"
   ]
  },
  {
   "cell_type": "code",
   "execution_count": 36,
   "metadata": {},
   "outputs": [
    {
     "data": {
      "text/html": [
       "<div>\n",
       "<style scoped>\n",
       "    .dataframe tbody tr th:only-of-type {\n",
       "        vertical-align: middle;\n",
       "    }\n",
       "\n",
       "    .dataframe tbody tr th {\n",
       "        vertical-align: top;\n",
       "    }\n",
       "\n",
       "    .dataframe thead th {\n",
       "        text-align: right;\n",
       "    }\n",
       "</style>\n",
       "<table border=\"1\" class=\"dataframe\">\n",
       "  <thead>\n",
       "    <tr style=\"text-align: right;\">\n",
       "      <th></th>\n",
       "      <th>id</th>\n",
       "      <th>author</th>\n",
       "      <th>title</th>\n",
       "      <th>genre</th>\n",
       "      <th>price</th>\n",
       "      <th>publish_date</th>\n",
       "      <th>description</th>\n",
       "    </tr>\n",
       "  </thead>\n",
       "  <tbody>\n",
       "    <tr>\n",
       "      <th>0</th>\n",
       "      <td>bk101</td>\n",
       "      <td>Gambardella, Matthew</td>\n",
       "      <td>XML Developer's Guide</td>\n",
       "      <td>Computer</td>\n",
       "      <td>44.95</td>\n",
       "      <td>2000-10-01</td>\n",
       "      <td>An in-depth look at creating applications \\n  ...</td>\n",
       "    </tr>\n",
       "    <tr>\n",
       "      <th>1</th>\n",
       "      <td>bk102</td>\n",
       "      <td>Ralls, Kim</td>\n",
       "      <td>Midnight Rain</td>\n",
       "      <td>Fantasy</td>\n",
       "      <td>5.95</td>\n",
       "      <td>2000-12-16</td>\n",
       "      <td>A former architect battles corporate zombies, ...</td>\n",
       "    </tr>\n",
       "    <tr>\n",
       "      <th>2</th>\n",
       "      <td>bk103</td>\n",
       "      <td>Corets, Eva</td>\n",
       "      <td>Maeve Ascendant</td>\n",
       "      <td>Fantasy</td>\n",
       "      <td>5.95</td>\n",
       "      <td>2000-11-17</td>\n",
       "      <td>After the collapse of a nanotechnology \\n     ...</td>\n",
       "    </tr>\n",
       "    <tr>\n",
       "      <th>3</th>\n",
       "      <td>bk104</td>\n",
       "      <td>Corets, Eva</td>\n",
       "      <td>Oberon's Legacy</td>\n",
       "      <td>Fantasy</td>\n",
       "      <td>5.95</td>\n",
       "      <td>2001-03-10</td>\n",
       "      <td>In post-apocalypse England, the mysterious \\n ...</td>\n",
       "    </tr>\n",
       "    <tr>\n",
       "      <th>4</th>\n",
       "      <td>bk105</td>\n",
       "      <td>Corets, Eva</td>\n",
       "      <td>The Sundered Grail</td>\n",
       "      <td>Fantasy</td>\n",
       "      <td>5.95</td>\n",
       "      <td>2001-09-10</td>\n",
       "      <td>The two daughters of Maeve, half-sisters, \\n  ...</td>\n",
       "    </tr>\n",
       "    <tr>\n",
       "      <th>5</th>\n",
       "      <td>bk106</td>\n",
       "      <td>Randall, Cynthia</td>\n",
       "      <td>Lover Birds</td>\n",
       "      <td>Romance</td>\n",
       "      <td>4.95</td>\n",
       "      <td>2000-09-02</td>\n",
       "      <td>When Carla meets Paul at an ornithology \\n    ...</td>\n",
       "    </tr>\n",
       "    <tr>\n",
       "      <th>6</th>\n",
       "      <td>bk107</td>\n",
       "      <td>Thurman, Paula</td>\n",
       "      <td>Splish Splash</td>\n",
       "      <td>Romance</td>\n",
       "      <td>4.95</td>\n",
       "      <td>2000-11-02</td>\n",
       "      <td>A deep sea diver finds true love twenty \\n    ...</td>\n",
       "    </tr>\n",
       "    <tr>\n",
       "      <th>7</th>\n",
       "      <td>bk108</td>\n",
       "      <td>Knorr, Stefan</td>\n",
       "      <td>Creepy Crawlies</td>\n",
       "      <td>Horror</td>\n",
       "      <td>4.95</td>\n",
       "      <td>2000-12-06</td>\n",
       "      <td>An anthology of horror stories about roaches,\\...</td>\n",
       "    </tr>\n",
       "    <tr>\n",
       "      <th>8</th>\n",
       "      <td>bk109</td>\n",
       "      <td>Kress, Peter</td>\n",
       "      <td>Paradox Lost</td>\n",
       "      <td>Science Fiction</td>\n",
       "      <td>6.95</td>\n",
       "      <td>2000-11-02</td>\n",
       "      <td>After an inadvertant trip through a Heisenberg...</td>\n",
       "    </tr>\n",
       "    <tr>\n",
       "      <th>9</th>\n",
       "      <td>bk110</td>\n",
       "      <td>O'Brien, Tim</td>\n",
       "      <td>Microsoft .NET: The Programming Bible</td>\n",
       "      <td>Computer</td>\n",
       "      <td>36.95</td>\n",
       "      <td>2000-12-09</td>\n",
       "      <td>Microsoft's .NET initiative is explored in \\n ...</td>\n",
       "    </tr>\n",
       "    <tr>\n",
       "      <th>10</th>\n",
       "      <td>bk111</td>\n",
       "      <td>O'Brien, Tim</td>\n",
       "      <td>MSXML3: A Comprehensive Guide</td>\n",
       "      <td>Computer</td>\n",
       "      <td>36.95</td>\n",
       "      <td>2000-12-01</td>\n",
       "      <td>The Microsoft MSXML3 parser is covered in \\n  ...</td>\n",
       "    </tr>\n",
       "    <tr>\n",
       "      <th>11</th>\n",
       "      <td>bk112</td>\n",
       "      <td>Galos, Mike</td>\n",
       "      <td>Visual Studio 7: A Comprehensive Guide</td>\n",
       "      <td>Computer</td>\n",
       "      <td>49.95</td>\n",
       "      <td>2001-04-16</td>\n",
       "      <td>Microsoft Visual Studio 7 is explored in depth...</td>\n",
       "    </tr>\n",
       "  </tbody>\n",
       "</table>\n",
       "</div>"
      ],
      "text/plain": [
       "       id                author                                   title  \\\n",
       "0   bk101  Gambardella, Matthew                   XML Developer's Guide   \n",
       "1   bk102            Ralls, Kim                           Midnight Rain   \n",
       "2   bk103           Corets, Eva                         Maeve Ascendant   \n",
       "3   bk104           Corets, Eva                         Oberon's Legacy   \n",
       "4   bk105           Corets, Eva                      The Sundered Grail   \n",
       "5   bk106      Randall, Cynthia                             Lover Birds   \n",
       "6   bk107        Thurman, Paula                           Splish Splash   \n",
       "7   bk108         Knorr, Stefan                         Creepy Crawlies   \n",
       "8   bk109          Kress, Peter                            Paradox Lost   \n",
       "9   bk110          O'Brien, Tim   Microsoft .NET: The Programming Bible   \n",
       "10  bk111          O'Brien, Tim           MSXML3: A Comprehensive Guide   \n",
       "11  bk112           Galos, Mike  Visual Studio 7: A Comprehensive Guide   \n",
       "\n",
       "              genre  price publish_date  \\\n",
       "0          Computer  44.95   2000-10-01   \n",
       "1           Fantasy   5.95   2000-12-16   \n",
       "2           Fantasy   5.95   2000-11-17   \n",
       "3           Fantasy   5.95   2001-03-10   \n",
       "4           Fantasy   5.95   2001-09-10   \n",
       "5           Romance   4.95   2000-09-02   \n",
       "6           Romance   4.95   2000-11-02   \n",
       "7            Horror   4.95   2000-12-06   \n",
       "8   Science Fiction   6.95   2000-11-02   \n",
       "9          Computer  36.95   2000-12-09   \n",
       "10         Computer  36.95   2000-12-01   \n",
       "11         Computer  49.95   2001-04-16   \n",
       "\n",
       "                                          description  \n",
       "0   An in-depth look at creating applications \\n  ...  \n",
       "1   A former architect battles corporate zombies, ...  \n",
       "2   After the collapse of a nanotechnology \\n     ...  \n",
       "3   In post-apocalypse England, the mysterious \\n ...  \n",
       "4   The two daughters of Maeve, half-sisters, \\n  ...  \n",
       "5   When Carla meets Paul at an ornithology \\n    ...  \n",
       "6   A deep sea diver finds true love twenty \\n    ...  \n",
       "7   An anthology of horror stories about roaches,\\...  \n",
       "8   After an inadvertant trip through a Heisenberg...  \n",
       "9   Microsoft's .NET initiative is explored in \\n ...  \n",
       "10  The Microsoft MSXML3 parser is covered in \\n  ...  \n",
       "11  Microsoft Visual Studio 7 is explored in depth...  "
      ]
     },
     "execution_count": 36,
     "metadata": {},
     "output_type": "execute_result"
    }
   ],
   "source": [
    "dfa"
   ]
  },
  {
   "cell_type": "code",
   "execution_count": 39,
   "metadata": {},
   "outputs": [],
   "source": [
    "tree_x = ET.parse('books.xml')\n",
    "root_x = tree_x.getroot()\n",
    "\n",
    "fa = open(\"books.txt\", \"w\")\n",
    "\n",
    "for child in root_x:\n",
    "    for x in child:\n",
    "        fa.write(x.tag + \" = \" + x.text + \"\\n\")\n",
    "    fa.write(\"------------------------\\n\")\n",
    "\n",
    "fa.close()"
   ]
  },
  {
   "cell_type": "code",
   "execution_count": 40,
   "metadata": {},
   "outputs": [
    {
     "name": "stdout",
     "output_type": "stream",
     "text": [
      "Help on ElementTree in module xml.etree.ElementTree object:\n",
      "\n",
      "class ElementTree(builtins.object)\n",
      " |  ElementTree(element=None, file=None)\n",
      " |  \n",
      " |  An XML element hierarchy.\n",
      " |  \n",
      " |  This class also provides support for serialization to and from\n",
      " |  standard XML.\n",
      " |  \n",
      " |  *element* is an optional root element node,\n",
      " |  *file* is an optional file handle or file name of an XML file whose\n",
      " |  contents will be used to initialize the tree with.\n",
      " |  \n",
      " |  Methods defined here:\n",
      " |  \n",
      " |  __init__(self, element=None, file=None)\n",
      " |      Initialize self.  See help(type(self)) for accurate signature.\n",
      " |  \n",
      " |  find(self, path, namespaces=None)\n",
      " |      Find first matching element by tag name or path.\n",
      " |      \n",
      " |      Same as getroot().find(path), which is Element.find()\n",
      " |      \n",
      " |      *path* is a string having either an element tag or an XPath,\n",
      " |      *namespaces* is an optional mapping from namespace prefix to full name.\n",
      " |      \n",
      " |      Return the first matching element, or None if no element was found.\n",
      " |  \n",
      " |  findall(self, path, namespaces=None)\n",
      " |      Find all matching subelements by tag name or path.\n",
      " |      \n",
      " |      Same as getroot().findall(path), which is Element.findall().\n",
      " |      \n",
      " |      *path* is a string having either an element tag or an XPath,\n",
      " |      *namespaces* is an optional mapping from namespace prefix to full name.\n",
      " |      \n",
      " |      Return list containing all matching elements in document order.\n",
      " |  \n",
      " |  findtext(self, path, default=None, namespaces=None)\n",
      " |      Find first matching element by tag name or path.\n",
      " |      \n",
      " |      Same as getroot().findtext(path),  which is Element.findtext()\n",
      " |      \n",
      " |      *path* is a string having either an element tag or an XPath,\n",
      " |      *namespaces* is an optional mapping from namespace prefix to full name.\n",
      " |      \n",
      " |      Return the first matching element, or None if no element was found.\n",
      " |  \n",
      " |  getiterator(self, tag=None)\n",
      " |      # compatibility\n",
      " |  \n",
      " |  getroot(self)\n",
      " |      Return root element of this tree.\n",
      " |  \n",
      " |  iter(self, tag=None)\n",
      " |      Create and return tree iterator for the root element.\n",
      " |      \n",
      " |      The iterator loops over all elements in this tree, in document order.\n",
      " |      \n",
      " |      *tag* is a string with the tag name to iterate over\n",
      " |      (default is to return all elements).\n",
      " |  \n",
      " |  iterfind(self, path, namespaces=None)\n",
      " |      Find all matching subelements by tag name or path.\n",
      " |      \n",
      " |      Same as getroot().iterfind(path), which is element.iterfind()\n",
      " |      \n",
      " |      *path* is a string having either an element tag or an XPath,\n",
      " |      *namespaces* is an optional mapping from namespace prefix to full name.\n",
      " |      \n",
      " |      Return an iterable yielding all matching elements in document order.\n",
      " |  \n",
      " |  parse(self, source, parser=None)\n",
      " |      Load external XML document into element tree.\n",
      " |      \n",
      " |      *source* is a file name or file object, *parser* is an optional parser\n",
      " |      instance that defaults to XMLParser.\n",
      " |      \n",
      " |      ParseError is raised if the parser fails to parse the document.\n",
      " |      \n",
      " |      Returns the root element of the given source document.\n",
      " |  \n",
      " |  write(self, file_or_filename, encoding=None, xml_declaration=None, default_namespace=None, method=None, *, short_empty_elements=True)\n",
      " |      Write element tree to a file as XML.\n",
      " |      \n",
      " |      Arguments:\n",
      " |        *file_or_filename* -- file name or a file object opened for writing\n",
      " |      \n",
      " |        *encoding* -- the output encoding (default: US-ASCII)\n",
      " |      \n",
      " |        *xml_declaration* -- bool indicating if an XML declaration should be\n",
      " |                             added to the output. If None, an XML declaration\n",
      " |                             is added if encoding IS NOT either of:\n",
      " |                             US-ASCII, UTF-8, or Unicode\n",
      " |      \n",
      " |        *default_namespace* -- sets the default XML namespace (for \"xmlns\")\n",
      " |      \n",
      " |        *method* -- either \"xml\" (default), \"html, \"text\", or \"c14n\"\n",
      " |      \n",
      " |        *short_empty_elements* -- controls the formatting of elements\n",
      " |                                  that contain no content. If True (default)\n",
      " |                                  they are emitted as a single self-closed\n",
      " |                                  tag, otherwise they are emitted as a pair\n",
      " |                                  of start/end tags\n",
      " |  \n",
      " |  write_c14n(self, file)\n",
      " |  \n",
      " |  ----------------------------------------------------------------------\n",
      " |  Data descriptors defined here:\n",
      " |  \n",
      " |  __dict__\n",
      " |      dictionary for instance variables (if defined)\n",
      " |  \n",
      " |  __weakref__\n",
      " |      list of weak references to the object (if defined)\n",
      "\n"
     ]
    }
   ],
   "source": [
    "help(tree_x)"
   ]
  },
  {
   "cell_type": "code",
   "execution_count": null,
   "metadata": {},
   "outputs": [],
   "source": []
  }
 ],
 "metadata": {
  "kernelspec": {
   "display_name": "Python 3",
   "language": "python",
   "name": "python3"
  },
  "language_info": {
   "codemirror_mode": {
    "name": "ipython",
    "version": 3
   },
   "file_extension": ".py",
   "mimetype": "text/x-python",
   "name": "python",
   "nbconvert_exporter": "python",
   "pygments_lexer": "ipython3",
   "version": "3.7.7"
  }
 },
 "nbformat": 4,
 "nbformat_minor": 4
}
