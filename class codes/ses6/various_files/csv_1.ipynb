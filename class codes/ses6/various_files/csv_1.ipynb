{
 "cells": [
  {
   "cell_type": "code",
   "execution_count": 1,
   "metadata": {},
   "outputs": [],
   "source": [
    "import csv"
   ]
  },
  {
   "cell_type": "code",
   "execution_count": 6,
   "metadata": {},
   "outputs": [
    {
     "name": "stdout",
     "output_type": "stream",
     "text": [
      "['34 tt 89 fg']\n",
      "['87 bh 11 gt']\n",
      "['45 se 67 ft']\n",
      "['20 xx 31 fl']\n",
      "['69 ss 18 cd']\n",
      "['35 dq 71 lk']\n"
     ]
    }
   ],
   "source": [
    "with open('datb.txt', 'r') as objf:\n",
    "    data_r = csv.reader(objf)\n",
    "    for row in data_r:\n",
    "        print(row)"
   ]
  },
  {
   "cell_type": "code",
   "execution_count": 3,
   "metadata": {},
   "outputs": [
    {
     "name": "stdout",
     "output_type": "stream",
     "text": [
      "<class '_csv.reader'>\n"
     ]
    }
   ],
   "source": [
    "print(type(data_r))"
   ]
  },
  {
   "cell_type": "code",
   "execution_count": 4,
   "metadata": {},
   "outputs": [
    {
     "data": {
      "text/plain": [
       "<_csv.reader at 0x7fdd78b7f5d0>"
      ]
     },
     "execution_count": 4,
     "metadata": {},
     "output_type": "execute_result"
    }
   ],
   "source": [
    "data_r"
   ]
  },
  {
   "cell_type": "code",
   "execution_count": 7,
   "metadata": {},
   "outputs": [
    {
     "name": "stdout",
     "output_type": "stream",
     "text": [
      "['34', 'tt', '89', 'fg']\n",
      "['87', 'bh', '11', 'gt']\n",
      "['45', 'se', '67', 'ft']\n",
      "['20', 'xx', '31', 'fl']\n",
      "['69', 'ss', '18', 'cd']\n",
      "['35', 'dq', '71', 'lk']\n"
     ]
    }
   ],
   "source": [
    "with open('datb.txt', 'r') as objf:\n",
    "    data_r = csv.reader(objf, delimiter = ' ')\n",
    "    for row in data_r:\n",
    "        print(row)"
   ]
  },
  {
   "cell_type": "code",
   "execution_count": 10,
   "metadata": {},
   "outputs": [
    {
     "name": "stdout",
     "output_type": "stream",
     "text": [
      "['val_1', 'val_2', 'val_3', 'val_4']\n",
      "['34', 'tt', '89', 'fg']\n",
      "['87', 'bh', '11', 'gt']\n",
      "['45', 'se', '67', 'ft']\n",
      "['20', 'xx', '31', 'fl']\n",
      "['69', 'ss', '18', 'cd']\n",
      "['35', 'dq', '71', 'lk']\n"
     ]
    }
   ],
   "source": [
    "with open('data.txt', 'r') as objf:\n",
    "    data_r = csv.reader(objf, delimiter = ' ', quoting=csv.QUOTE_ALL)\n",
    "    for row in data_r:\n",
    "        print(row)"
   ]
  },
  {
   "cell_type": "code",
   "execution_count": 12,
   "metadata": {},
   "outputs": [
    {
     "name": "stdout",
     "output_type": "stream",
     "text": [
      "{'val_1': '34', 'val_2': 'tt', 'val_3': '89', 'val_4': 'fg'}\n",
      "{'val_1': '87', 'val_2': 'bh', 'val_3': '11', 'val_4': 'gt'}\n",
      "{'val_1': '45', 'val_2': 'se', 'val_3': '67', 'val_4': 'ft'}\n",
      "{'val_1': '20', 'val_2': 'xx', 'val_3': '31', 'val_4': 'fl'}\n",
      "{'val_1': '69', 'val_2': 'ss', 'val_3': '18', 'val_4': 'cd'}\n",
      "{'val_1': '35', 'val_2': 'dq', 'val_3': '71', 'val_4': 'lk'}\n"
     ]
    }
   ],
   "source": [
    "with open('data.txt', 'r') as objf:\n",
    "    data_r = csv.DictReader(objf, delimiter = \" \")\n",
    "    for row in data_r:\n",
    "        print(dict(row))"
   ]
  },
  {
   "cell_type": "code",
   "execution_count": 13,
   "metadata": {},
   "outputs": [],
   "source": [
    "data_c = [[\"id\", \"name\", 'skill'], \n",
    "          [24, \"mithali\", \"cricket\"],\n",
    "          [25, \"Sindhu\", \"badminton\"],\n",
    "          [26, \"sania\", \"tennis\"],\n",
    "          [27, \"mary\", \"boxer\"] ]"
   ]
  },
  {
   "cell_type": "code",
   "execution_count": 14,
   "metadata": {},
   "outputs": [],
   "source": [
    "with open(\"sportswomen.csv\", \"w\") as objf:\n",
    "    data_w = csv.writer(objf)\n",
    "    for row in data_c:\n",
    "        data_w.writerow(row)"
   ]
  },
  {
   "cell_type": "code",
   "execution_count": 15,
   "metadata": {},
   "outputs": [],
   "source": [
    "with open(\"sportswomen.csv\", \"w\") as objf:\n",
    "    data_w = csv.writer(objf)\n",
    "    data_w.writerows(data_c)"
   ]
  },
  {
   "cell_type": "code",
   "execution_count": 16,
   "metadata": {},
   "outputs": [],
   "source": [
    "import pandas as pd"
   ]
  },
  {
   "cell_type": "code",
   "execution_count": 17,
   "metadata": {},
   "outputs": [],
   "source": [
    "dfc = pd.read_csv(\"sportswomen.csv\")"
   ]
  },
  {
   "cell_type": "code",
   "execution_count": 18,
   "metadata": {},
   "outputs": [
    {
     "data": {
      "text/html": [
       "<div>\n",
       "<style scoped>\n",
       "    .dataframe tbody tr th:only-of-type {\n",
       "        vertical-align: middle;\n",
       "    }\n",
       "\n",
       "    .dataframe tbody tr th {\n",
       "        vertical-align: top;\n",
       "    }\n",
       "\n",
       "    .dataframe thead th {\n",
       "        text-align: right;\n",
       "    }\n",
       "</style>\n",
       "<table border=\"1\" class=\"dataframe\">\n",
       "  <thead>\n",
       "    <tr style=\"text-align: right;\">\n",
       "      <th></th>\n",
       "      <th>id</th>\n",
       "      <th>name</th>\n",
       "      <th>skill</th>\n",
       "    </tr>\n",
       "  </thead>\n",
       "  <tbody>\n",
       "    <tr>\n",
       "      <th>0</th>\n",
       "      <td>24</td>\n",
       "      <td>mithali</td>\n",
       "      <td>cricket</td>\n",
       "    </tr>\n",
       "    <tr>\n",
       "      <th>1</th>\n",
       "      <td>25</td>\n",
       "      <td>Sindhu</td>\n",
       "      <td>badminton</td>\n",
       "    </tr>\n",
       "    <tr>\n",
       "      <th>2</th>\n",
       "      <td>26</td>\n",
       "      <td>sania</td>\n",
       "      <td>tennis</td>\n",
       "    </tr>\n",
       "    <tr>\n",
       "      <th>3</th>\n",
       "      <td>27</td>\n",
       "      <td>mary</td>\n",
       "      <td>boxer</td>\n",
       "    </tr>\n",
       "  </tbody>\n",
       "</table>\n",
       "</div>"
      ],
      "text/plain": [
       "   id     name      skill\n",
       "0  24  mithali    cricket\n",
       "1  25   Sindhu  badminton\n",
       "2  26    sania     tennis\n",
       "3  27     mary      boxer"
      ]
     },
     "execution_count": 18,
     "metadata": {},
     "output_type": "execute_result"
    }
   ],
   "source": [
    "dfc"
   ]
  },
  {
   "cell_type": "code",
   "execution_count": null,
   "metadata": {},
   "outputs": [],
   "source": []
  }
 ],
 "metadata": {
  "kernelspec": {
   "display_name": "Python 3",
   "language": "python",
   "name": "python3"
  },
  "language_info": {
   "codemirror_mode": {
    "name": "ipython",
    "version": 3
   },
   "file_extension": ".py",
   "mimetype": "text/x-python",
   "name": "python",
   "nbconvert_exporter": "python",
   "pygments_lexer": "ipython3",
   "version": "3.7.7"
  }
 },
 "nbformat": 4,
 "nbformat_minor": 4
}
