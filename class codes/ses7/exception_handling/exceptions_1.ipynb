{
 "cells": [
  {
   "cell_type": "code",
   "execution_count": 1,
   "metadata": {},
   "outputs": [
    {
     "name": "stdout",
     "output_type": "stream",
     "text": [
      "enter the index: 3\n",
      "ee\n"
     ]
    }
   ],
   "source": [
    "listx = [\"aa\", \"ff\", \"gg\", 'ee', \"tt\", \"rr\"]\n",
    "\n",
    "i = int(input(\"enter the index: \"))\n",
    "\n",
    "print(listx[i])"
   ]
  },
  {
   "cell_type": "code",
   "execution_count": 2,
   "metadata": {},
   "outputs": [
    {
     "name": "stdout",
     "output_type": "stream",
     "text": [
      "enter the index: 10\n"
     ]
    },
    {
     "ename": "IndexError",
     "evalue": "list index out of range",
     "output_type": "error",
     "traceback": [
      "\u001b[0;31m---------------------------------------------------------------------------\u001b[0m",
      "\u001b[0;31mIndexError\u001b[0m                                Traceback (most recent call last)",
      "\u001b[0;32m<ipython-input-2-3a02fb0f6fa1>\u001b[0m in \u001b[0;36m<module>\u001b[0;34m\u001b[0m\n\u001b[1;32m      3\u001b[0m \u001b[0mi\u001b[0m \u001b[0;34m=\u001b[0m \u001b[0mint\u001b[0m\u001b[0;34m(\u001b[0m\u001b[0minput\u001b[0m\u001b[0;34m(\u001b[0m\u001b[0;34m\"enter the index: \"\u001b[0m\u001b[0;34m)\u001b[0m\u001b[0;34m)\u001b[0m\u001b[0;34m\u001b[0m\u001b[0;34m\u001b[0m\u001b[0m\n\u001b[1;32m      4\u001b[0m \u001b[0;34m\u001b[0m\u001b[0m\n\u001b[0;32m----> 5\u001b[0;31m \u001b[0mprint\u001b[0m\u001b[0;34m(\u001b[0m\u001b[0mlistx\u001b[0m\u001b[0;34m[\u001b[0m\u001b[0mi\u001b[0m\u001b[0;34m]\u001b[0m\u001b[0;34m)\u001b[0m\u001b[0;34m\u001b[0m\u001b[0;34m\u001b[0m\u001b[0m\n\u001b[0m",
      "\u001b[0;31mIndexError\u001b[0m: list index out of range"
     ]
    }
   ],
   "source": [
    "listx = [\"aa\", \"ff\", \"gg\", 'ee', \"tt\", \"rr\"]\n",
    "\n",
    "i = int(input(\"enter the index: \"))\n",
    "\n",
    "print(listx[i])"
   ]
  },
  {
   "cell_type": "code",
   "execution_count": 4,
   "metadata": {},
   "outputs": [
    {
     "name": "stdout",
     "output_type": "stream",
     "text": [
      "enter the index: 10\n",
      "defaulted the value of i as zero\n",
      "val = aa\n",
      "code continues\n"
     ]
    }
   ],
   "source": [
    "listx = [\"aa\", \"ff\", \"gg\", 'ee', \"tt\", \"rr\"]\n",
    "\n",
    "try:\n",
    "    i = int(input(\"enter the index: \"))\n",
    "    print(\"val =\", listx[i])\n",
    "    print(\"hello\")\n",
    "except IndexError:\n",
    "    i = 0\n",
    "    print(\"defaulted the value of i as zero\")\n",
    "    print(\"val =\", listx[i])\n",
    "\n",
    "print(\"code continues\")"
   ]
  },
  {
   "cell_type": "code",
   "execution_count": 5,
   "metadata": {},
   "outputs": [
    {
     "name": "stdout",
     "output_type": "stream",
     "text": [
      "enter the index: hi\n"
     ]
    },
    {
     "ename": "ValueError",
     "evalue": "invalid literal for int() with base 10: 'hi'",
     "output_type": "error",
     "traceback": [
      "\u001b[0;31m---------------------------------------------------------------------------\u001b[0m",
      "\u001b[0;31mValueError\u001b[0m                                Traceback (most recent call last)",
      "\u001b[0;32m<ipython-input-5-4b3036b3b17f>\u001b[0m in \u001b[0;36m<module>\u001b[0;34m\u001b[0m\n\u001b[1;32m      2\u001b[0m \u001b[0;34m\u001b[0m\u001b[0m\n\u001b[1;32m      3\u001b[0m \u001b[0;32mtry\u001b[0m\u001b[0;34m:\u001b[0m\u001b[0;34m\u001b[0m\u001b[0;34m\u001b[0m\u001b[0m\n\u001b[0;32m----> 4\u001b[0;31m     \u001b[0mi\u001b[0m \u001b[0;34m=\u001b[0m \u001b[0mint\u001b[0m\u001b[0;34m(\u001b[0m\u001b[0minput\u001b[0m\u001b[0;34m(\u001b[0m\u001b[0;34m\"enter the index: \"\u001b[0m\u001b[0;34m)\u001b[0m\u001b[0;34m)\u001b[0m\u001b[0;34m\u001b[0m\u001b[0;34m\u001b[0m\u001b[0m\n\u001b[0m\u001b[1;32m      5\u001b[0m     \u001b[0mprint\u001b[0m\u001b[0;34m(\u001b[0m\u001b[0;34m\"val =\"\u001b[0m\u001b[0;34m,\u001b[0m \u001b[0mlistx\u001b[0m\u001b[0;34m[\u001b[0m\u001b[0mi\u001b[0m\u001b[0;34m]\u001b[0m\u001b[0;34m)\u001b[0m\u001b[0;34m\u001b[0m\u001b[0;34m\u001b[0m\u001b[0m\n\u001b[1;32m      6\u001b[0m     \u001b[0mprint\u001b[0m\u001b[0;34m(\u001b[0m\u001b[0;34m\"hello listx\"\u001b[0m\u001b[0;34m,\u001b[0m \u001b[0mlisty\u001b[0m\u001b[0;34m)\u001b[0m\u001b[0;34m\u001b[0m\u001b[0;34m\u001b[0m\u001b[0m\n",
      "\u001b[0;31mValueError\u001b[0m: invalid literal for int() with base 10: 'hi'"
     ]
    }
   ],
   "source": [
    "listx = [\"aa\", \"ff\", \"gg\", 'ee', \"tt\", \"rr\"]\n",
    "\n",
    "try:\n",
    "    i = int(input(\"enter the index: \"))\n",
    "    print(\"val =\", listx[i])\n",
    "    print(\"hello listx\", listy)\n",
    "except IndexError:\n",
    "    i = 0\n",
    "    print(\"defaulted the value of i as zero\")\n",
    "    print(\"val =\", listx[i])\n",
    "\n",
    "print(\"code continues\")"
   ]
  },
  {
   "cell_type": "code",
   "execution_count": 6,
   "metadata": {},
   "outputs": [
    {
     "name": "stdout",
     "output_type": "stream",
     "text": [
      "enter the index: i\n",
      "failed to enter a proper integer, assigning zero to i\n",
      "val = aa\n",
      "code continues\n"
     ]
    }
   ],
   "source": [
    "listx = [\"aa\", \"ff\", \"gg\", 'ee', \"tt\", \"rr\"]\n",
    "\n",
    "try:\n",
    "    i = int(input(\"enter the index: \"))\n",
    "    print(\"val =\", listx[i])\n",
    "    print(\"hello listx\", listy)\n",
    "except IndexError:\n",
    "    i = 0\n",
    "    print(\"defaulted the value of i as zero\")\n",
    "    print(\"val =\", listx[i])\n",
    "except ValueError:\n",
    "    i = 0\n",
    "    print(\"failed to enter a proper integer, assigning zero to i\")\n",
    "    print(\"val =\", listx[i])    \n",
    "    \n",
    "    \n",
    "print(\"code continues\")"
   ]
  },
  {
   "cell_type": "code",
   "execution_count": 7,
   "metadata": {},
   "outputs": [
    {
     "name": "stdout",
     "output_type": "stream",
     "text": [
      "enter the index: 4\n",
      "val = tt\n"
     ]
    },
    {
     "ename": "NameError",
     "evalue": "name 'listy' is not defined",
     "output_type": "error",
     "traceback": [
      "\u001b[0;31m---------------------------------------------------------------------------\u001b[0m",
      "\u001b[0;31mNameError\u001b[0m                                 Traceback (most recent call last)",
      "\u001b[0;32m<ipython-input-7-d0cd0852da90>\u001b[0m in \u001b[0;36m<module>\u001b[0;34m\u001b[0m\n\u001b[1;32m      4\u001b[0m     \u001b[0mi\u001b[0m \u001b[0;34m=\u001b[0m \u001b[0mint\u001b[0m\u001b[0;34m(\u001b[0m\u001b[0minput\u001b[0m\u001b[0;34m(\u001b[0m\u001b[0;34m\"enter the index: \"\u001b[0m\u001b[0;34m)\u001b[0m\u001b[0;34m)\u001b[0m\u001b[0;34m\u001b[0m\u001b[0;34m\u001b[0m\u001b[0m\n\u001b[1;32m      5\u001b[0m     \u001b[0mprint\u001b[0m\u001b[0;34m(\u001b[0m\u001b[0;34m\"val =\"\u001b[0m\u001b[0;34m,\u001b[0m \u001b[0mlistx\u001b[0m\u001b[0;34m[\u001b[0m\u001b[0mi\u001b[0m\u001b[0;34m]\u001b[0m\u001b[0;34m)\u001b[0m\u001b[0;34m\u001b[0m\u001b[0;34m\u001b[0m\u001b[0m\n\u001b[0;32m----> 6\u001b[0;31m     \u001b[0mprint\u001b[0m\u001b[0;34m(\u001b[0m\u001b[0;34m\"hello listx\"\u001b[0m\u001b[0;34m,\u001b[0m \u001b[0mlisty\u001b[0m\u001b[0;34m)\u001b[0m\u001b[0;34m\u001b[0m\u001b[0;34m\u001b[0m\u001b[0m\n\u001b[0m\u001b[1;32m      7\u001b[0m \u001b[0;32mexcept\u001b[0m \u001b[0mIndexError\u001b[0m\u001b[0;34m:\u001b[0m\u001b[0;34m\u001b[0m\u001b[0;34m\u001b[0m\u001b[0m\n\u001b[1;32m      8\u001b[0m     \u001b[0mi\u001b[0m \u001b[0;34m=\u001b[0m \u001b[0;36m0\u001b[0m\u001b[0;34m\u001b[0m\u001b[0;34m\u001b[0m\u001b[0m\n",
      "\u001b[0;31mNameError\u001b[0m: name 'listy' is not defined"
     ]
    }
   ],
   "source": [
    "listx = [\"aa\", \"ff\", \"gg\", 'ee', \"tt\", \"rr\"]\n",
    "\n",
    "try:\n",
    "    i = int(input(\"enter the index: \"))\n",
    "    print(\"val =\", listx[i])\n",
    "    print(\"hello listx\", listy)\n",
    "except IndexError:\n",
    "    i = 0\n",
    "    print(\"defaulted the value of i as zero\")\n",
    "    print(\"val =\", listx[i])\n",
    "except ValueError:\n",
    "    i = 0\n",
    "    print(\"failed to enter a proper integer, assigning zero to i\")\n",
    "    print(\"val =\", listx[i])    \n",
    "    \n",
    "    \n",
    "print(\"code continues\")"
   ]
  },
  {
   "cell_type": "code",
   "execution_count": 8,
   "metadata": {},
   "outputs": [
    {
     "name": "stdout",
     "output_type": "stream",
     "text": [
      "enter the index: 3\n",
      "val = ee\n",
      "something went wrong\n",
      "code continues\n"
     ]
    }
   ],
   "source": [
    "listx = [\"aa\", \"ff\", \"gg\", 'ee', \"tt\", \"rr\"]\n",
    "\n",
    "try:\n",
    "    i = int(input(\"enter the index: \"))\n",
    "    print(\"val =\", listx[i])\n",
    "    print(\"hello listx\", listy)\n",
    "except IndexError:\n",
    "    i = 0\n",
    "    print(\"defaulted the value of i as zero\")\n",
    "    print(\"val =\", listx[i])\n",
    "except ValueError:\n",
    "    i = 0\n",
    "    print(\"failed to enter a proper integer, assigning zero to i\")\n",
    "    print(\"val =\", listx[i])    \n",
    "except:\n",
    "    print(\"something went wrong\")\n",
    "    \n",
    "print(\"code continues\")"
   ]
  },
  {
   "cell_type": "code",
   "execution_count": 10,
   "metadata": {},
   "outputs": [
    {
     "name": "stdout",
     "output_type": "stream",
     "text": [
      "enter the index: four\n",
      "failed to enter a proper integer, assigning zero to i\n",
      "val = aa\n",
      "code continues\n"
     ]
    }
   ],
   "source": [
    "listx = [\"aa\", \"ff\", \"gg\", 'ee', \"tt\", \"rr\"]\n",
    "\n",
    "try:\n",
    "    try:\n",
    "        i = int(input(\"enter the index: \"))\n",
    "        print(\"val =\", listx[i])\n",
    "        print(\"hello listx\", listy)\n",
    "    except IndexError:\n",
    "        i = 0\n",
    "        print(\"defaulted the value of i as zero\")\n",
    "        print(\"val =\", listx[i])\n",
    "except ValueError:\n",
    "    i = 0\n",
    "    print(\"failed to enter a proper integer, assigning zero to i\")\n",
    "    print(\"val =\", listx[i])    \n",
    "except:\n",
    "    print(\"something went wrong\")\n",
    "    \n",
    "print(\"code continues\")"
   ]
  },
  {
   "cell_type": "code",
   "execution_count": 11,
   "metadata": {},
   "outputs": [
    {
     "name": "stdout",
     "output_type": "stream",
     "text": [
      "enter the index: 100\n",
      "defaulted the value of i as zero\n",
      "val = aa\n",
      "code continues\n"
     ]
    }
   ],
   "source": [
    "listx = [\"aa\", \"ff\", \"gg\", 'ee', \"tt\", \"rr\"]\n",
    "\n",
    "\n",
    "try:\n",
    "    i = int(input(\"enter the index: \"))\n",
    "    print(\"val =\", listx[i])\n",
    "    print(\"hello listx\", listy)\n",
    "except IndexError:\n",
    "    i = 0\n",
    "    print(\"defaulted the value of i as zero\")\n",
    "    print(\"val =\", listx[i])\n",
    "except ValueError:\n",
    "    i = 0\n",
    "    print(\"failed to enter a proper integer, assigning zero to i\")\n",
    "    print(\"val =\", listx[i])    \n",
    "except:\n",
    "    print(\"something went wrong\")\n",
    "    a\n",
    "print(\"code continues\") "
   ]
  },
  {
   "cell_type": "code",
   "execution_count": 12,
   "metadata": {},
   "outputs": [
    {
     "name": "stdout",
     "output_type": "stream",
     "text": [
      "enter the index: 3\n",
      "val = ee\n",
      "else block executed \n",
      "finally blocked executed\n",
      "code continues\n"
     ]
    }
   ],
   "source": [
    "listx = [\"aa\", \"ff\", \"gg\", 'ee', \"tt\", \"rr\"]\n",
    "\n",
    "\n",
    "try:\n",
    "    i = int(input(\"enter the index: \"))\n",
    "    print(\"val =\", listx[i])\n",
    "except IndexError:\n",
    "    i = 0\n",
    "    print(\"defaulted the value of i as zero\")\n",
    "    print(\"val =\", listx[i])\n",
    "except ValueError:\n",
    "    i = 0\n",
    "    print(\"failed to enter a proper integer, assigning zero to i\")\n",
    "    print(\"val =\", listx[i])    \n",
    "else :\n",
    "    print(\"else block executed \")\n",
    "finally:\n",
    "    print(\"finally blocked executed\")\n",
    "\n",
    "print(\"code continues\") "
   ]
  },
  {
   "cell_type": "code",
   "execution_count": 13,
   "metadata": {},
   "outputs": [
    {
     "name": "stdout",
     "output_type": "stream",
     "text": [
      "enter the index: 10\n",
      "defaulted the value of i as zero\n",
      "val = aa\n",
      "finally blocked executed\n",
      "code continues\n"
     ]
    }
   ],
   "source": [
    "listx = [\"aa\", \"ff\", \"gg\", 'ee', \"tt\", \"rr\"]\n",
    "\n",
    "\n",
    "try:\n",
    "    i = int(input(\"enter the index: \"))\n",
    "    print(\"val =\", listx[i])\n",
    "except IndexError:\n",
    "    i = 0\n",
    "    print(\"defaulted the value of i as zero\")\n",
    "    print(\"val =\", listx[i])\n",
    "except ValueError:\n",
    "    i = 0\n",
    "    print(\"failed to enter a proper integer, assigning zero to i\")\n",
    "    print(\"val =\", listx[i])    \n",
    "else :\n",
    "    print(\"else block executed \")\n",
    "finally:\n",
    "    print(\"finally blocked executed\")\n",
    "\n",
    "print(\"code continues\") "
   ]
  },
  {
   "cell_type": "code",
   "execution_count": 15,
   "metadata": {},
   "outputs": [],
   "source": [
    "def funca(la):\n",
    "    try:\n",
    "        la + 33\n",
    "    except ValueError:\n",
    "        \"handled in function\""
   ]
  },
  {
   "cell_type": "code",
   "execution_count": 18,
   "metadata": {},
   "outputs": [
    {
     "ename": "TypeError",
     "evalue": "can only concatenate str (not \"int\") to str",
     "output_type": "error",
     "traceback": [
      "\u001b[0;31m---------------------------------------------------------------------------\u001b[0m",
      "\u001b[0;31mTypeError\u001b[0m                                 Traceback (most recent call last)",
      "\u001b[0;32m<ipython-input-18-6fb1f880730b>\u001b[0m in \u001b[0;36m<module>\u001b[0;34m\u001b[0m\n\u001b[0;32m----> 1\u001b[0;31m \u001b[0mfunca\u001b[0m\u001b[0;34m(\u001b[0m\u001b[0;34m\"hhhh\"\u001b[0m\u001b[0;34m)\u001b[0m\u001b[0;34m\u001b[0m\u001b[0;34m\u001b[0m\u001b[0m\n\u001b[0m",
      "\u001b[0;32m<ipython-input-15-4b839fe7506c>\u001b[0m in \u001b[0;36mfunca\u001b[0;34m(la)\u001b[0m\n\u001b[1;32m      1\u001b[0m \u001b[0;32mdef\u001b[0m \u001b[0mfunca\u001b[0m\u001b[0;34m(\u001b[0m\u001b[0mla\u001b[0m\u001b[0;34m)\u001b[0m\u001b[0;34m:\u001b[0m\u001b[0;34m\u001b[0m\u001b[0;34m\u001b[0m\u001b[0m\n\u001b[1;32m      2\u001b[0m     \u001b[0;32mtry\u001b[0m\u001b[0;34m:\u001b[0m\u001b[0;34m\u001b[0m\u001b[0;34m\u001b[0m\u001b[0m\n\u001b[0;32m----> 3\u001b[0;31m         \u001b[0mla\u001b[0m \u001b[0;34m+\u001b[0m \u001b[0;36m33\u001b[0m\u001b[0;34m\u001b[0m\u001b[0;34m\u001b[0m\u001b[0m\n\u001b[0m\u001b[1;32m      4\u001b[0m     \u001b[0;32mexcept\u001b[0m \u001b[0mValueError\u001b[0m\u001b[0;34m:\u001b[0m\u001b[0;34m\u001b[0m\u001b[0;34m\u001b[0m\u001b[0m\n\u001b[1;32m      5\u001b[0m         \u001b[0;34m\"handled in function\"\u001b[0m\u001b[0;34m\u001b[0m\u001b[0;34m\u001b[0m\u001b[0m\n",
      "\u001b[0;31mTypeError\u001b[0m: can only concatenate str (not \"int\") to str"
     ]
    }
   ],
   "source": [
    "funca(\"hhhh\")"
   ]
  },
  {
   "cell_type": "code",
   "execution_count": 20,
   "metadata": {},
   "outputs": [
    {
     "name": "stdout",
     "output_type": "stream",
     "text": [
      "12\n"
     ]
    },
    {
     "ename": "ValueError",
     "evalue": "",
     "output_type": "error",
     "traceback": [
      "\u001b[0;31m---------------------------------------------------------------------------\u001b[0m",
      "\u001b[0;31mValueError\u001b[0m                                Traceback (most recent call last)",
      "\u001b[0;32m<ipython-input-20-fb898c56a716>\u001b[0m in \u001b[0;36m<module>\u001b[0;34m\u001b[0m\n\u001b[1;32m      2\u001b[0m \u001b[0;34m\u001b[0m\u001b[0m\n\u001b[1;32m      3\u001b[0m \u001b[0;32mif\u001b[0m \u001b[0mage\u001b[0m \u001b[0;34m<\u001b[0m\u001b[0;36m18\u001b[0m\u001b[0;34m:\u001b[0m\u001b[0;34m\u001b[0m\u001b[0;34m\u001b[0m\u001b[0m\n\u001b[0;32m----> 4\u001b[0;31m     \u001b[0;32mraise\u001b[0m \u001b[0mValueError\u001b[0m\u001b[0;34m\u001b[0m\u001b[0;34m\u001b[0m\u001b[0m\n\u001b[0m",
      "\u001b[0;31mValueError\u001b[0m: "
     ]
    }
   ],
   "source": [
    "age = int(input())\n",
    "\n",
    "if age <18:\n",
    "    raise ValueError"
   ]
  },
  {
   "cell_type": "code",
   "execution_count": 21,
   "metadata": {},
   "outputs": [],
   "source": [
    "class Exception_age(Exception):\n",
    "    pass\n",
    "\n",
    "class Error_age(Exception):\n",
    "    pass"
   ]
  },
  {
   "cell_type": "code",
   "execution_count": 24,
   "metadata": {},
   "outputs": [
    {
     "name": "stdout",
     "output_type": "stream",
     "text": [
      "22\n"
     ]
    },
    {
     "ename": "NameError",
     "evalue": "name 'Error_age' is not defined",
     "output_type": "error",
     "traceback": [
      "\u001b[0;31m---------------------------------------------------------------------------\u001b[0m",
      "\u001b[0;31mNameError\u001b[0m                                 Traceback (most recent call last)",
      "\u001b[0;32m<ipython-input-24-c50b83283184>\u001b[0m in \u001b[0;36m<module>\u001b[0;34m\u001b[0m\n\u001b[1;32m      6\u001b[0m         \u001b[0;32mraise\u001b[0m \u001b[0mException_age\u001b[0m\u001b[0;34m\u001b[0m\u001b[0;34m\u001b[0m\u001b[0m\n\u001b[1;32m      7\u001b[0m     \u001b[0;32melif\u001b[0m \u001b[0mi\u001b[0m \u001b[0;34m>\u001b[0m \u001b[0;36m21\u001b[0m\u001b[0;34m:\u001b[0m\u001b[0;34m\u001b[0m\u001b[0;34m\u001b[0m\u001b[0m\n\u001b[0;32m----> 8\u001b[0;31m         \u001b[0;32mraise\u001b[0m \u001b[0mError_age\u001b[0m\u001b[0;34m\u001b[0m\u001b[0;34m\u001b[0m\u001b[0m\n\u001b[0m\u001b[1;32m      9\u001b[0m     \u001b[0;32melse\u001b[0m\u001b[0;34m:\u001b[0m\u001b[0;34m\u001b[0m\u001b[0;34m\u001b[0m\u001b[0m\n\u001b[1;32m     10\u001b[0m         \u001b[0mprint\u001b[0m\u001b[0;34m(\u001b[0m\u001b[0;34m\"guessed it right\"\u001b[0m\u001b[0;34m)\u001b[0m\u001b[0;34m\u001b[0m\u001b[0;34m\u001b[0m\u001b[0m\n",
      "\u001b[0;31mNameError\u001b[0m: name 'Error_age' is not defined"
     ]
    }
   ],
   "source": [
    "val = 100\n",
    "\n",
    "while True:\n",
    "    i = int(input())\n",
    "    if i < 21:\n",
    "        raise Exception_age\n",
    "    elif i > 21:\n",
    "        raise Error_age\n",
    "    else:\n",
    "        print(\"guessed it right\")\n",
    "        break"
   ]
  },
  {
   "cell_type": "code",
   "execution_count": null,
   "metadata": {},
   "outputs": [],
   "source": []
  }
 ],
 "metadata": {
  "kernelspec": {
   "display_name": "Python 3",
   "language": "python",
   "name": "python3"
  },
  "language_info": {
   "codemirror_mode": {
    "name": "ipython",
    "version": 3
   },
   "file_extension": ".py",
   "mimetype": "text/x-python",
   "name": "python",
   "nbconvert_exporter": "python",
   "pygments_lexer": "ipython3",
   "version": "3.7.7"
  }
 },
 "nbformat": 4,
 "nbformat_minor": 4
}
